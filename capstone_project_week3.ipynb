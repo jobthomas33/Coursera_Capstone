{
 "cells": [
  {
   "cell_type": "markdown",
   "metadata": {},
   "source": [
    "# Data Science Capstone Project"
   ]
  },
  {
   "cell_type": "markdown",
   "metadata": {},
   "source": [
    "* This notebook will be used for capstone project"
   ]
  },
  {
   "cell_type": "code",
   "execution_count": 2,
   "metadata": {},
   "outputs": [
    {
     "name": "stdout",
     "output_type": "stream",
     "text": [
      "Hello Capstone Project Course!\n"
     ]
    }
   ],
   "source": [
    "import pandas as pd\n",
    "import numpy as np\n",
    "print(\"Hello Capstone Project Course!\")"
   ]
  },
  {
   "cell_type": "markdown",
   "metadata": {},
   "source": [
    "# 1.Web scraping Data"
   ]
  },
  {
   "cell_type": "code",
   "execution_count": 5,
   "metadata": {},
   "outputs": [
    {
     "name": "stdout",
     "output_type": "stream",
     "text": [
      "Requirement already satisfied: BeautifulSoup4 in c:\\users\\user\\anaconda3\\lib\\site-packages (4.6.3)\n"
     ]
    }
   ],
   "source": [
    "!pip install BeautifulSoup4"
   ]
  },
  {
   "cell_type": "code",
   "execution_count": 6,
   "metadata": {},
   "outputs": [
    {
     "name": "stdout",
     "output_type": "stream",
     "text": [
      "BeautifulSoup  & csv imported.\n"
     ]
    }
   ],
   "source": [
    "import requests\n",
    "from urllib.request import urlopen\n",
    "from bs4 import BeautifulSoup\n",
    "import ssl\n",
    "import csv\n",
    "\n",
    "print('BeautifulSoup  & csv imported.')"
   ]
  },
  {
   "cell_type": "code",
   "execution_count": 7,
   "metadata": {},
   "outputs": [
    {
     "name": "stdout",
     "output_type": "stream",
     "text": [
      "SSL certificate errors ignored.\n"
     ]
    }
   ],
   "source": [
    "ctx = ssl.create_default_context()\n",
    "ctx.check_hostname = False\n",
    "ctx.verify_mode = ssl.CERT_NONE\n",
    "\n",
    "print('SSL certificate errors ignored.')"
   ]
  },
  {
   "cell_type": "code",
   "execution_count": 8,
   "metadata": {},
   "outputs": [
    {
     "name": "stdout",
     "output_type": "stream",
     "text": [
      "ready\n"
     ]
    }
   ],
   "source": [
    "source = requests.get('https://en.wikipedia.org/wiki/List_of_postal_codes_of_Canada:_M').text\n",
    "\n",
    "soup = BeautifulSoup(source, 'lxml')\n",
    "\n",
    "print('ready')"
   ]
  },
  {
   "cell_type": "code",
   "execution_count": 9,
   "metadata": {},
   "outputs": [],
   "source": [
    "table = soup.find('table',{'class':'wikitable sortable'})"
   ]
  },
  {
   "cell_type": "code",
   "execution_count": 11,
   "metadata": {},
   "outputs": [],
   "source": [
    "table_rows = table.find_all('tr')"
   ]
  },
  {
   "cell_type": "code",
   "execution_count": 12,
   "metadata": {},
   "outputs": [],
   "source": [
    "data = []\n",
    "for row in table_rows:\n",
    "    data.append([t.text.strip() for t in row.find_all('td')])\n",
    "\n",
    "df = pd.DataFrame(data, columns=['PostalCode', 'Borough', 'Neighbourhood'])\n",
    "df = df[~df['PostalCode'].isnull()]"
   ]
  },
  {
   "cell_type": "code",
   "execution_count": 13,
   "metadata": {},
   "outputs": [
    {
     "data": {
      "text/html": [
       "<div>\n",
       "<style scoped>\n",
       "    .dataframe tbody tr th:only-of-type {\n",
       "        vertical-align: middle;\n",
       "    }\n",
       "\n",
       "    .dataframe tbody tr th {\n",
       "        vertical-align: top;\n",
       "    }\n",
       "\n",
       "    .dataframe thead th {\n",
       "        text-align: right;\n",
       "    }\n",
       "</style>\n",
       "<table border=\"1\" class=\"dataframe\">\n",
       "  <thead>\n",
       "    <tr style=\"text-align: right;\">\n",
       "      <th></th>\n",
       "      <th>PostalCode</th>\n",
       "      <th>Borough</th>\n",
       "      <th>Neighbourhood</th>\n",
       "    </tr>\n",
       "  </thead>\n",
       "  <tbody>\n",
       "    <tr>\n",
       "      <th>1</th>\n",
       "      <td>M1A</td>\n",
       "      <td>Not assigned</td>\n",
       "      <td>Not assigned</td>\n",
       "    </tr>\n",
       "    <tr>\n",
       "      <th>2</th>\n",
       "      <td>M2A</td>\n",
       "      <td>Not assigned</td>\n",
       "      <td>Not assigned</td>\n",
       "    </tr>\n",
       "    <tr>\n",
       "      <th>3</th>\n",
       "      <td>M3A</td>\n",
       "      <td>North York</td>\n",
       "      <td>Parkwoods</td>\n",
       "    </tr>\n",
       "    <tr>\n",
       "      <th>4</th>\n",
       "      <td>M4A</td>\n",
       "      <td>North York</td>\n",
       "      <td>Victoria Village</td>\n",
       "    </tr>\n",
       "    <tr>\n",
       "      <th>5</th>\n",
       "      <td>M5A</td>\n",
       "      <td>Downtown Toronto</td>\n",
       "      <td>Regent Park, Harbourfront</td>\n",
       "    </tr>\n",
       "  </tbody>\n",
       "</table>\n",
       "</div>"
      ],
      "text/plain": [
       "  PostalCode           Borough              Neighbourhood\n",
       "1        M1A      Not assigned               Not assigned\n",
       "2        M2A      Not assigned               Not assigned\n",
       "3        M3A        North York                  Parkwoods\n",
       "4        M4A        North York           Victoria Village\n",
       "5        M5A  Downtown Toronto  Regent Park, Harbourfront"
      ]
     },
     "execution_count": 13,
     "metadata": {},
     "output_type": "execute_result"
    }
   ],
   "source": [
    "df.head()"
   ]
  },
  {
   "cell_type": "code",
   "execution_count": 14,
   "metadata": {},
   "outputs": [],
   "source": [
    "df.drop(df[df['Borough']==\"Not assigned\"].index,axis=0, inplace=True)"
   ]
  },
  {
   "cell_type": "code",
   "execution_count": 15,
   "metadata": {},
   "outputs": [],
   "source": [
    "df1 = df.reset_index()"
   ]
  },
  {
   "cell_type": "code",
   "execution_count": 16,
   "metadata": {},
   "outputs": [
    {
     "name": "stdout",
     "output_type": "stream",
     "text": [
      "<class 'pandas.core.frame.DataFrame'>\n",
      "RangeIndex: 103 entries, 0 to 102\n",
      "Data columns (total 4 columns):\n",
      "index            103 non-null int64\n",
      "PostalCode       103 non-null object\n",
      "Borough          103 non-null object\n",
      "Neighbourhood    103 non-null object\n",
      "dtypes: int64(1), object(3)\n",
      "memory usage: 3.3+ KB\n"
     ]
    }
   ],
   "source": [
    "df1.info()"
   ]
  },
  {
   "cell_type": "code",
   "execution_count": 17,
   "metadata": {},
   "outputs": [],
   "source": [
    "# combining more than one neighborhood with the same postal code area\n",
    "df2= df1.groupby('PostalCode').agg(lambda x: ','.join(x))"
   ]
  },
  {
   "cell_type": "code",
   "execution_count": 18,
   "metadata": {},
   "outputs": [
    {
     "data": {
      "text/html": [
       "<div>\n",
       "<style scoped>\n",
       "    .dataframe tbody tr th:only-of-type {\n",
       "        vertical-align: middle;\n",
       "    }\n",
       "\n",
       "    .dataframe tbody tr th {\n",
       "        vertical-align: top;\n",
       "    }\n",
       "\n",
       "    .dataframe thead th {\n",
       "        text-align: right;\n",
       "    }\n",
       "</style>\n",
       "<table border=\"1\" class=\"dataframe\">\n",
       "  <thead>\n",
       "    <tr style=\"text-align: right;\">\n",
       "      <th></th>\n",
       "      <th>Borough</th>\n",
       "      <th>Neighbourhood</th>\n",
       "    </tr>\n",
       "    <tr>\n",
       "      <th>PostalCode</th>\n",
       "      <th></th>\n",
       "      <th></th>\n",
       "    </tr>\n",
       "  </thead>\n",
       "  <tbody>\n",
       "    <tr>\n",
       "      <th>M1B</th>\n",
       "      <td>Scarborough</td>\n",
       "      <td>Malvern, Rouge</td>\n",
       "    </tr>\n",
       "    <tr>\n",
       "      <th>M1C</th>\n",
       "      <td>Scarborough</td>\n",
       "      <td>Rouge Hill, Port Union, Highland Creek</td>\n",
       "    </tr>\n",
       "    <tr>\n",
       "      <th>M1E</th>\n",
       "      <td>Scarborough</td>\n",
       "      <td>Guildwood, Morningside, West Hill</td>\n",
       "    </tr>\n",
       "    <tr>\n",
       "      <th>M1G</th>\n",
       "      <td>Scarborough</td>\n",
       "      <td>Woburn</td>\n",
       "    </tr>\n",
       "    <tr>\n",
       "      <th>M1H</th>\n",
       "      <td>Scarborough</td>\n",
       "      <td>Cedarbrae</td>\n",
       "    </tr>\n",
       "  </tbody>\n",
       "</table>\n",
       "</div>"
      ],
      "text/plain": [
       "                Borough                           Neighbourhood\n",
       "PostalCode                                                     \n",
       "M1B         Scarborough                          Malvern, Rouge\n",
       "M1C         Scarborough  Rouge Hill, Port Union, Highland Creek\n",
       "M1E         Scarborough       Guildwood, Morningside, West Hill\n",
       "M1G         Scarborough                                  Woburn\n",
       "M1H         Scarborough                               Cedarbrae"
      ]
     },
     "execution_count": 18,
     "metadata": {},
     "output_type": "execute_result"
    }
   ],
   "source": [
    "df2.head()"
   ]
  },
  {
   "cell_type": "code",
   "execution_count": 19,
   "metadata": {},
   "outputs": [
    {
     "name": "stdout",
     "output_type": "stream",
     "text": [
      "<class 'pandas.core.frame.DataFrame'>\n",
      "Index: 103 entries, M1B to M9W\n",
      "Data columns (total 2 columns):\n",
      "Borough          103 non-null object\n",
      "Neighbourhood    103 non-null object\n",
      "dtypes: object(2)\n",
      "memory usage: 2.4+ KB\n"
     ]
    }
   ],
   "source": [
    "df2.info()"
   ]
  },
  {
   "cell_type": "code",
   "execution_count": 25,
   "metadata": {},
   "outputs": [
    {
     "data": {
      "text/plain": [
       "(103, 2)"
      ]
     },
     "execution_count": 25,
     "metadata": {},
     "output_type": "execute_result"
    }
   ],
   "source": [
    "df2.shape"
   ]
  },
  {
   "cell_type": "code",
   "execution_count": 26,
   "metadata": {},
   "outputs": [],
   "source": [
    "df2.loc[df2['Neighbourhood']==\"Not assigned\",'Neighbourhood']=df2.loc[df2['Neighbourhood']==\"Not assigned\",'Borough']"
   ]
  },
  {
   "cell_type": "code",
   "execution_count": 27,
   "metadata": {},
   "outputs": [],
   "source": [
    "df3 = df2.reset_index()"
   ]
  },
  {
   "cell_type": "code",
   "execution_count": 28,
   "metadata": {},
   "outputs": [],
   "source": [
    "#Remove duplicates\n",
    "df3['Borough']= df3['Borough'].str.replace('nan|[{}\\s]','').str.split(',').apply(set).str.join(',').str.strip(',').str.replace(\",{2,}\",\",\")"
   ]
  },
  {
   "cell_type": "code",
   "execution_count": 29,
   "metadata": {},
   "outputs": [
    {
     "data": {
      "text/html": [
       "<div>\n",
       "<style scoped>\n",
       "    .dataframe tbody tr th:only-of-type {\n",
       "        vertical-align: middle;\n",
       "    }\n",
       "\n",
       "    .dataframe tbody tr th {\n",
       "        vertical-align: top;\n",
       "    }\n",
       "\n",
       "    .dataframe thead th {\n",
       "        text-align: right;\n",
       "    }\n",
       "</style>\n",
       "<table border=\"1\" class=\"dataframe\">\n",
       "  <thead>\n",
       "    <tr style=\"text-align: right;\">\n",
       "      <th></th>\n",
       "      <th>PostalCode</th>\n",
       "      <th>Borough</th>\n",
       "      <th>Neighbourhood</th>\n",
       "    </tr>\n",
       "  </thead>\n",
       "  <tbody>\n",
       "    <tr>\n",
       "      <th>0</th>\n",
       "      <td>M1B</td>\n",
       "      <td>Scarborough</td>\n",
       "      <td>Malvern, Rouge</td>\n",
       "    </tr>\n",
       "    <tr>\n",
       "      <th>1</th>\n",
       "      <td>M1C</td>\n",
       "      <td>Scarborough</td>\n",
       "      <td>Rouge Hill, Port Union, Highland Creek</td>\n",
       "    </tr>\n",
       "    <tr>\n",
       "      <th>2</th>\n",
       "      <td>M1E</td>\n",
       "      <td>Scarborough</td>\n",
       "      <td>Guildwood, Morningside, West Hill</td>\n",
       "    </tr>\n",
       "    <tr>\n",
       "      <th>3</th>\n",
       "      <td>M1G</td>\n",
       "      <td>Scarborough</td>\n",
       "      <td>Woburn</td>\n",
       "    </tr>\n",
       "    <tr>\n",
       "      <th>4</th>\n",
       "      <td>M1H</td>\n",
       "      <td>Scarborough</td>\n",
       "      <td>Cedarbrae</td>\n",
       "    </tr>\n",
       "  </tbody>\n",
       "</table>\n",
       "</div>"
      ],
      "text/plain": [
       "  PostalCode      Borough                           Neighbourhood\n",
       "0        M1B  Scarborough                          Malvern, Rouge\n",
       "1        M1C  Scarborough  Rouge Hill, Port Union, Highland Creek\n",
       "2        M1E  Scarborough       Guildwood, Morningside, West Hill\n",
       "3        M1G  Scarborough                                  Woburn\n",
       "4        M1H  Scarborough                               Cedarbrae"
      ]
     },
     "execution_count": 29,
     "metadata": {},
     "output_type": "execute_result"
    }
   ],
   "source": [
    "df3.head()"
   ]
  },
  {
   "cell_type": "code",
   "execution_count": 30,
   "metadata": {},
   "outputs": [
    {
     "name": "stdout",
     "output_type": "stream",
     "text": [
      "<class 'pandas.core.frame.DataFrame'>\n",
      "RangeIndex: 103 entries, 0 to 102\n",
      "Data columns (total 3 columns):\n",
      "PostalCode       103 non-null object\n",
      "Borough          103 non-null object\n",
      "Neighbourhood    103 non-null object\n",
      "dtypes: object(3)\n",
      "memory usage: 2.5+ KB\n"
     ]
    }
   ],
   "source": [
    "df3.info()"
   ]
  },
  {
   "cell_type": "code",
   "execution_count": 31,
   "metadata": {},
   "outputs": [
    {
     "data": {
      "text/plain": [
       "(103, 3)"
      ]
     },
     "execution_count": 31,
     "metadata": {},
     "output_type": "execute_result"
    }
   ],
   "source": [
    "df3.shape"
   ]
  },
  {
   "cell_type": "code",
   "execution_count": 32,
   "metadata": {},
   "outputs": [
    {
     "data": {
      "text/html": [
       "<div>\n",
       "<style scoped>\n",
       "    .dataframe tbody tr th:only-of-type {\n",
       "        vertical-align: middle;\n",
       "    }\n",
       "\n",
       "    .dataframe tbody tr th {\n",
       "        vertical-align: top;\n",
       "    }\n",
       "\n",
       "    .dataframe thead th {\n",
       "        text-align: right;\n",
       "    }\n",
       "</style>\n",
       "<table border=\"1\" class=\"dataframe\">\n",
       "  <thead>\n",
       "    <tr style=\"text-align: right;\">\n",
       "      <th></th>\n",
       "      <th>PostalCode</th>\n",
       "      <th>Borough</th>\n",
       "      <th>Neighbourhood</th>\n",
       "    </tr>\n",
       "  </thead>\n",
       "  <tbody>\n",
       "    <tr>\n",
       "      <th>0</th>\n",
       "      <td>M1B</td>\n",
       "      <td>Scarborough</td>\n",
       "      <td>Malvern, Rouge</td>\n",
       "    </tr>\n",
       "    <tr>\n",
       "      <th>1</th>\n",
       "      <td>M1C</td>\n",
       "      <td>Scarborough</td>\n",
       "      <td>Rouge Hill, Port Union, Highland Creek</td>\n",
       "    </tr>\n",
       "    <tr>\n",
       "      <th>2</th>\n",
       "      <td>M1E</td>\n",
       "      <td>Scarborough</td>\n",
       "      <td>Guildwood, Morningside, West Hill</td>\n",
       "    </tr>\n",
       "    <tr>\n",
       "      <th>3</th>\n",
       "      <td>M1G</td>\n",
       "      <td>Scarborough</td>\n",
       "      <td>Woburn</td>\n",
       "    </tr>\n",
       "    <tr>\n",
       "      <th>4</th>\n",
       "      <td>M1H</td>\n",
       "      <td>Scarborough</td>\n",
       "      <td>Cedarbrae</td>\n",
       "    </tr>\n",
       "  </tbody>\n",
       "</table>\n",
       "</div>"
      ],
      "text/plain": [
       "  PostalCode      Borough                           Neighbourhood\n",
       "0        M1B  Scarborough                          Malvern, Rouge\n",
       "1        M1C  Scarborough  Rouge Hill, Port Union, Highland Creek\n",
       "2        M1E  Scarborough       Guildwood, Morningside, West Hill\n",
       "3        M1G  Scarborough                                  Woburn\n",
       "4        M1H  Scarborough                               Cedarbrae"
      ]
     },
     "execution_count": 32,
     "metadata": {},
     "output_type": "execute_result"
    }
   ],
   "source": [
    "df3.head()"
   ]
  },
  {
   "cell_type": "markdown",
   "metadata": {},
   "source": [
    "# 2. Getting Latitude and Longitude"
   ]
  },
  {
   "cell_type": "code",
   "execution_count": 34,
   "metadata": {},
   "outputs": [
    {
     "name": "stdout",
     "output_type": "stream",
     "text": [
      "Requirement already satisfied: geopy in c:\\users\\user\\anaconda3\\lib\\site-packages (1.22.0)\n",
      "Requirement already satisfied: geographiclib<2,>=1.49 in c:\\users\\user\\anaconda3\\lib\\site-packages (from geopy) (1.50)\n"
     ]
    }
   ],
   "source": [
    "!pip install geopy"
   ]
  },
  {
   "cell_type": "code",
   "execution_count": 36,
   "metadata": {},
   "outputs": [
    {
     "name": "stderr",
     "output_type": "stream",
     "text": [
      "C:\\Users\\USER\\Anaconda3\\lib\\site-packages\\ipykernel_launcher.py:2: DeprecationWarning: Using Nominatim with the default \"geopy/1.22.0\" `user_agent` is strongly discouraged, as it violates Nominatim's ToS https://operations.osmfoundation.org/policies/nominatim/ and may possibly cause 403 and 429 HTTP errors. Please specify a custom `user_agent` with `Nominatim(user_agent=\"my-application\")` or by overriding the default `user_agent`: `geopy.geocoders.options.default_user_agent = \"my-application\"`. In geopy 2.0 this will become an exception.\n",
      "  \n"
     ]
    },
    {
     "name": "stdout",
     "output_type": "stream",
     "text": [
      "Parkwoods Village Drive, Parkway East, Don Valley East, North York, Toronto, Golden Horseshoe, Ontario, M3A 2X2, Canada\n",
      "\n",
      "(43.7587999, -79.3201966)\n",
      "\n",
      "{'place_id': 124974741, 'licence': 'Data © OpenStreetMap contributors, ODbL 1.0. https://osm.org/copyright', 'osm_type': 'way', 'osm_id': 160406961, 'boundingbox': ['43.7576231', '43.761106', '-79.3239088', '-79.316215'], 'lat': '43.7587999', 'lon': '-79.3201966', 'display_name': 'Parkwoods Village Drive, Parkway East, Don Valley East, North York, Toronto, Golden Horseshoe, Ontario, M3A 2X2, Canada', 'class': 'highway', 'type': 'secondary', 'importance': 0.51}\n"
     ]
    }
   ],
   "source": [
    "from  geopy.geocoders import Nominatim\n",
    "geolocator = Nominatim()\n",
    "location = geolocator.geocode(\"Toronto, North York, Parkwoods\")\n",
    "\n",
    "print(location.address)\n",
    "print('')\n",
    "print((location.latitude, location.longitude))\n",
    "print('')\n",
    "print(location.raw)"
   ]
  },
  {
   "cell_type": "code",
   "execution_count": 37,
   "metadata": {},
   "outputs": [],
   "source": [
    "# Readind csv for  geospatial data\n",
    "data3 = pd.read_csv(\"Geospatial_Coordinates.csv\") "
   ]
  },
  {
   "cell_type": "code",
   "execution_count": 38,
   "metadata": {},
   "outputs": [
    {
     "data": {
      "text/html": [
       "<div>\n",
       "<style scoped>\n",
       "    .dataframe tbody tr th:only-of-type {\n",
       "        vertical-align: middle;\n",
       "    }\n",
       "\n",
       "    .dataframe tbody tr th {\n",
       "        vertical-align: top;\n",
       "    }\n",
       "\n",
       "    .dataframe thead th {\n",
       "        text-align: right;\n",
       "    }\n",
       "</style>\n",
       "<table border=\"1\" class=\"dataframe\">\n",
       "  <thead>\n",
       "    <tr style=\"text-align: right;\">\n",
       "      <th></th>\n",
       "      <th>Postal Code</th>\n",
       "      <th>Latitude</th>\n",
       "      <th>Longitude</th>\n",
       "    </tr>\n",
       "  </thead>\n",
       "  <tbody>\n",
       "    <tr>\n",
       "      <th>0</th>\n",
       "      <td>M1B</td>\n",
       "      <td>43.806686</td>\n",
       "      <td>-79.194353</td>\n",
       "    </tr>\n",
       "    <tr>\n",
       "      <th>1</th>\n",
       "      <td>M1C</td>\n",
       "      <td>43.784535</td>\n",
       "      <td>-79.160497</td>\n",
       "    </tr>\n",
       "    <tr>\n",
       "      <th>2</th>\n",
       "      <td>M1E</td>\n",
       "      <td>43.763573</td>\n",
       "      <td>-79.188711</td>\n",
       "    </tr>\n",
       "    <tr>\n",
       "      <th>3</th>\n",
       "      <td>M1G</td>\n",
       "      <td>43.770992</td>\n",
       "      <td>-79.216917</td>\n",
       "    </tr>\n",
       "    <tr>\n",
       "      <th>4</th>\n",
       "      <td>M1H</td>\n",
       "      <td>43.773136</td>\n",
       "      <td>-79.239476</td>\n",
       "    </tr>\n",
       "  </tbody>\n",
       "</table>\n",
       "</div>"
      ],
      "text/plain": [
       "  Postal Code   Latitude  Longitude\n",
       "0         M1B  43.806686 -79.194353\n",
       "1         M1C  43.784535 -79.160497\n",
       "2         M1E  43.763573 -79.188711\n",
       "3         M1G  43.770992 -79.216917\n",
       "4         M1H  43.773136 -79.239476"
      ]
     },
     "execution_count": 38,
     "metadata": {},
     "output_type": "execute_result"
    }
   ],
   "source": [
    "data3.head()"
   ]
  },
  {
   "cell_type": "code",
   "execution_count": 39,
   "metadata": {},
   "outputs": [],
   "source": [
    "data3.rename(columns={'Postal Code': 'PostalCode'}, inplace=True)"
   ]
  },
  {
   "cell_type": "code",
   "execution_count": 40,
   "metadata": {},
   "outputs": [],
   "source": [
    "data1 = pd.merge(data3, df3, how='inner', on=None, left_on=None, right_on=None,\n",
    "         left_index=False, right_index=False, sort=True,\n",
    "         suffixes=('_x', '_y'), copy=True, indicator=False,\n",
    "         validate=None)"
   ]
  },
  {
   "cell_type": "code",
   "execution_count": 41,
   "metadata": {},
   "outputs": [
    {
     "data": {
      "text/html": [
       "<div>\n",
       "<style scoped>\n",
       "    .dataframe tbody tr th:only-of-type {\n",
       "        vertical-align: middle;\n",
       "    }\n",
       "\n",
       "    .dataframe tbody tr th {\n",
       "        vertical-align: top;\n",
       "    }\n",
       "\n",
       "    .dataframe thead th {\n",
       "        text-align: right;\n",
       "    }\n",
       "</style>\n",
       "<table border=\"1\" class=\"dataframe\">\n",
       "  <thead>\n",
       "    <tr style=\"text-align: right;\">\n",
       "      <th></th>\n",
       "      <th>PostalCode</th>\n",
       "      <th>Latitude</th>\n",
       "      <th>Longitude</th>\n",
       "      <th>Borough</th>\n",
       "      <th>Neighbourhood</th>\n",
       "    </tr>\n",
       "  </thead>\n",
       "  <tbody>\n",
       "    <tr>\n",
       "      <th>0</th>\n",
       "      <td>M1B</td>\n",
       "      <td>43.806686</td>\n",
       "      <td>-79.194353</td>\n",
       "      <td>Scarborough</td>\n",
       "      <td>Malvern, Rouge</td>\n",
       "    </tr>\n",
       "    <tr>\n",
       "      <th>1</th>\n",
       "      <td>M1C</td>\n",
       "      <td>43.784535</td>\n",
       "      <td>-79.160497</td>\n",
       "      <td>Scarborough</td>\n",
       "      <td>Rouge Hill, Port Union, Highland Creek</td>\n",
       "    </tr>\n",
       "    <tr>\n",
       "      <th>2</th>\n",
       "      <td>M1E</td>\n",
       "      <td>43.763573</td>\n",
       "      <td>-79.188711</td>\n",
       "      <td>Scarborough</td>\n",
       "      <td>Guildwood, Morningside, West Hill</td>\n",
       "    </tr>\n",
       "    <tr>\n",
       "      <th>3</th>\n",
       "      <td>M1G</td>\n",
       "      <td>43.770992</td>\n",
       "      <td>-79.216917</td>\n",
       "      <td>Scarborough</td>\n",
       "      <td>Woburn</td>\n",
       "    </tr>\n",
       "    <tr>\n",
       "      <th>4</th>\n",
       "      <td>M1H</td>\n",
       "      <td>43.773136</td>\n",
       "      <td>-79.239476</td>\n",
       "      <td>Scarborough</td>\n",
       "      <td>Cedarbrae</td>\n",
       "    </tr>\n",
       "  </tbody>\n",
       "</table>\n",
       "</div>"
      ],
      "text/plain": [
       "  PostalCode   Latitude  Longitude      Borough  \\\n",
       "0        M1B  43.806686 -79.194353  Scarborough   \n",
       "1        M1C  43.784535 -79.160497  Scarborough   \n",
       "2        M1E  43.763573 -79.188711  Scarborough   \n",
       "3        M1G  43.770992 -79.216917  Scarborough   \n",
       "4        M1H  43.773136 -79.239476  Scarborough   \n",
       "\n",
       "                            Neighbourhood  \n",
       "0                          Malvern, Rouge  \n",
       "1  Rouge Hill, Port Union, Highland Creek  \n",
       "2       Guildwood, Morningside, West Hill  \n",
       "3                                  Woburn  \n",
       "4                               Cedarbrae  "
      ]
     },
     "execution_count": 41,
     "metadata": {},
     "output_type": "execute_result"
    }
   ],
   "source": [
    "data1.head()"
   ]
  },
  {
   "cell_type": "code",
   "execution_count": 42,
   "metadata": {},
   "outputs": [],
   "source": [
    "#Rearranging columns\n",
    "cols=data1.columns.tolist()\n",
    "cols=cols[0:1]+cols[3:5]+cols[1:3]"
   ]
  },
  {
   "cell_type": "code",
   "execution_count": 43,
   "metadata": {},
   "outputs": [],
   "source": [
    "data=data1[cols]"
   ]
  },
  {
   "cell_type": "code",
   "execution_count": 59,
   "metadata": {},
   "outputs": [
    {
     "data": {
      "text/html": [
       "<div>\n",
       "<style scoped>\n",
       "    .dataframe tbody tr th:only-of-type {\n",
       "        vertical-align: middle;\n",
       "    }\n",
       "\n",
       "    .dataframe tbody tr th {\n",
       "        vertical-align: top;\n",
       "    }\n",
       "\n",
       "    .dataframe thead th {\n",
       "        text-align: right;\n",
       "    }\n",
       "</style>\n",
       "<table border=\"1\" class=\"dataframe\">\n",
       "  <thead>\n",
       "    <tr style=\"text-align: right;\">\n",
       "      <th></th>\n",
       "      <th>PostalCode</th>\n",
       "      <th>Borough</th>\n",
       "      <th>Neighbourhood</th>\n",
       "      <th>Latitude</th>\n",
       "      <th>Longitude</th>\n",
       "    </tr>\n",
       "  </thead>\n",
       "  <tbody>\n",
       "    <tr>\n",
       "      <th>0</th>\n",
       "      <td>M1B</td>\n",
       "      <td>Scarborough</td>\n",
       "      <td>Malvern, Rouge</td>\n",
       "      <td>43.806686</td>\n",
       "      <td>-79.194353</td>\n",
       "    </tr>\n",
       "    <tr>\n",
       "      <th>1</th>\n",
       "      <td>M1C</td>\n",
       "      <td>Scarborough</td>\n",
       "      <td>Rouge Hill, Port Union, Highland Creek</td>\n",
       "      <td>43.784535</td>\n",
       "      <td>-79.160497</td>\n",
       "    </tr>\n",
       "    <tr>\n",
       "      <th>2</th>\n",
       "      <td>M1E</td>\n",
       "      <td>Scarborough</td>\n",
       "      <td>Guildwood, Morningside, West Hill</td>\n",
       "      <td>43.763573</td>\n",
       "      <td>-79.188711</td>\n",
       "    </tr>\n",
       "    <tr>\n",
       "      <th>3</th>\n",
       "      <td>M1G</td>\n",
       "      <td>Scarborough</td>\n",
       "      <td>Woburn</td>\n",
       "      <td>43.770992</td>\n",
       "      <td>-79.216917</td>\n",
       "    </tr>\n",
       "    <tr>\n",
       "      <th>4</th>\n",
       "      <td>M1H</td>\n",
       "      <td>Scarborough</td>\n",
       "      <td>Cedarbrae</td>\n",
       "      <td>43.773136</td>\n",
       "      <td>-79.239476</td>\n",
       "    </tr>\n",
       "  </tbody>\n",
       "</table>\n",
       "</div>"
      ],
      "text/plain": [
       "  PostalCode      Borough                           Neighbourhood   Latitude  \\\n",
       "0        M1B  Scarborough                          Malvern, Rouge  43.806686   \n",
       "1        M1C  Scarborough  Rouge Hill, Port Union, Highland Creek  43.784535   \n",
       "2        M1E  Scarborough       Guildwood, Morningside, West Hill  43.763573   \n",
       "3        M1G  Scarborough                                  Woburn  43.770992   \n",
       "4        M1H  Scarborough                               Cedarbrae  43.773136   \n",
       "\n",
       "   Longitude  \n",
       "0 -79.194353  \n",
       "1 -79.160497  \n",
       "2 -79.188711  \n",
       "3 -79.216917  \n",
       "4 -79.239476  "
      ]
     },
     "execution_count": 59,
     "metadata": {},
     "output_type": "execute_result"
    }
   ],
   "source": [
    "data.head()"
   ]
  },
  {
   "cell_type": "markdown",
   "metadata": {},
   "source": [
    "# 3. Explore and cluster neighborhoods in Toronto"
   ]
  },
  {
   "cell_type": "code",
   "execution_count": 60,
   "metadata": {},
   "outputs": [
    {
     "name": "stdout",
     "output_type": "stream",
     "text": [
      "Libraries imported.\n"
     ]
    }
   ],
   "source": [
    "import numpy as np # library to handle data in a vectorized manner\n",
    "\n",
    "import pandas as pd # library for data analsysis\n",
    "pd.set_option('display.max_columns', None)\n",
    "pd.set_option('display.max_rows', None)\n",
    "\n",
    "import json # library to handle JSON files\n",
    "\n",
    "#!conda install -c conda-forge geopy --yes # uncomment this line if you haven't completed the Foursquare API lab\n",
    "from geopy.geocoders import Nominatim # convert an address into latitude and longitude values\n",
    "\n",
    "import requests # library to handle requests\n",
    "from pandas.io.json import json_normalize # tranform JSON file into a pandas dataframe\n",
    "\n",
    "# Matplotlib and associated plotting modules\n",
    "import matplotlib.cm as cm\n",
    "import matplotlib.colors as colors\n",
    "\n",
    "# import k-means from clustering stage\n",
    "from sklearn.cluster import KMeans\n",
    "\n",
    "#!conda install -c conda-forge folium=0.5.0 --yes # uncomment this line if you haven't completed the Foursquare API lab\n",
    "import folium # map rendering library\n",
    "\n",
    "print('Libraries imported.')"
   ]
  },
  {
   "cell_type": "code",
   "execution_count": 61,
   "metadata": {},
   "outputs": [],
   "source": [
    "import json\n",
    "\n",
    "data.to_json(path_or_buf='geo_toronto.json', orient='table')"
   ]
  },
  {
   "cell_type": "markdown",
   "metadata": {},
   "source": [
    "**Opening JSON file**"
   ]
  },
  {
   "cell_type": "code",
   "execution_count": 62,
   "metadata": {},
   "outputs": [],
   "source": [
    "with open('geo_toronto.json') as json_data:\n",
    "    Toronto_data = json.load(json_data)"
   ]
  },
  {
   "cell_type": "code",
   "execution_count": 64,
   "metadata": {},
   "outputs": [],
   "source": [
    "#Toronto_data\n",
    "# Data is in the 'data' field "
   ]
  },
  {
   "cell_type": "code",
   "execution_count": 65,
   "metadata": {},
   "outputs": [
    {
     "data": {
      "text/plain": [
       "{'index': 0,\n",
       " 'PostalCode': 'M1B',\n",
       " 'Borough': 'Scarborough',\n",
       " 'Neighbourhood': 'Malvern, Rouge',\n",
       " 'Latitude': 43.8066863,\n",
       " 'Longitude': -79.1943534}"
      ]
     },
     "execution_count": 65,
     "metadata": {},
     "output_type": "execute_result"
    }
   ],
   "source": [
    "neighborhoods_data = Toronto_data['data']\n",
    "neighborhoods_data[0]"
   ]
  },
  {
   "cell_type": "code",
   "execution_count": 66,
   "metadata": {},
   "outputs": [
    {
     "name": "stdout",
     "output_type": "stream",
     "text": [
      "The dataframe has 10 boroughs and 103 neighborhoods.\n"
     ]
    }
   ],
   "source": [
    "print('The dataframe has {} boroughs and {} neighborhoods.'.format(\n",
    "        len(data['Borough'].unique()),\n",
    "        data.shape[0]\n",
    "    )\n",
    ")"
   ]
  },
  {
   "cell_type": "markdown",
   "metadata": {},
   "source": [
    "**Getting Location**"
   ]
  },
  {
   "cell_type": "code",
   "execution_count": 68,
   "metadata": {},
   "outputs": [
    {
     "name": "stderr",
     "output_type": "stream",
     "text": [
      "C:\\Users\\USER\\Anaconda3\\lib\\site-packages\\ipykernel_launcher.py:3: DeprecationWarning: Using Nominatim with the default \"geopy/1.22.0\" `user_agent` is strongly discouraged, as it violates Nominatim's ToS https://operations.osmfoundation.org/policies/nominatim/ and may possibly cause 403 and 429 HTTP errors. Please specify a custom `user_agent` with `Nominatim(user_agent=\"my-application\")` or by overriding the default `user_agent`: `geopy.geocoders.options.default_user_agent = \"my-application\"`. In geopy 2.0 this will become an exception.\n",
      "  This is separate from the ipykernel package so we can avoid doing imports until\n"
     ]
    },
    {
     "name": "stdout",
     "output_type": "stream",
     "text": [
      "The geograpical coordinate of Adelaide are -34.9281805, 138.5999312.\n"
     ]
    }
   ],
   "source": [
    "address = 'Adelaide'\n",
    "\n",
    "geolocator = Nominatim()\n",
    "location = geolocator.geocode(address)\n",
    "latitude = location.latitude\n",
    "longitude = location.longitude\n",
    "print('The geograpical coordinate of Adelaide are {}, {}.'.format(latitude, longitude))"
   ]
  },
  {
   "cell_type": "markdown",
   "metadata": {},
   "source": [
    "**Random Markers in toronto**"
   ]
  },
  {
   "cell_type": "code",
   "execution_count": 69,
   "metadata": {},
   "outputs": [
    {
     "data": {
      "text/html": [
       "<div style=\"width:100%;\"><div style=\"position:relative;width:100%;height:0;padding-bottom:60%;\"><span style=\"color:#565656\">Make this Notebook Trusted to load map: File -> Trust Notebook</span><iframe src=\"about:blank\" style=\"position:absolute;width:100%;height:100%;left:0;top:0;border:none !important;\" data-html=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 onload=\"this.contentDocument.open();this.contentDocument.write(atob(this.getAttribute('data-html')));this.contentDocument.close();\" allowfullscreen webkitallowfullscreen mozallowfullscreen></iframe></div></div>"
      ],
      "text/plain": [
       "<folium.folium.Map at 0x4ac3081be0>"
      ]
     },
     "execution_count": 69,
     "metadata": {},
     "output_type": "execute_result"
    }
   ],
   "source": [
    "import pandas as pd\n",
    "import folium\n",
    "\n",
    "\n",
    "\n",
    "#grab a random sample from df\n",
    "toronto_n = data.sample(n=20)\n",
    "map_toronto = folium.Map(location=[toronto_n['Latitude'].mean(), \n",
    "                                toronto_n['Longitude'].mean()], \n",
    "                      zoom_start=10)\n",
    "#creating a Marker for each point in df_sample. Each point will get a popup with their zip\n",
    "for row in toronto_n.itertuples():\n",
    "    map_toronto.add_child(folium.Marker(location=[row.Latitude ,row.Longitude],\n",
    "           popup=row.Neighbourhood))\n",
    "\n",
    "    \n",
    "map_toronto "
   ]
  },
  {
   "cell_type": "code",
   "execution_count": 70,
   "metadata": {},
   "outputs": [
    {
     "name": "stderr",
     "output_type": "stream",
     "text": [
      "C:\\Users\\USER\\Anaconda3\\lib\\site-packages\\ipykernel_launcher.py:3: DeprecationWarning: Using Nominatim with the default \"geopy/1.22.0\" `user_agent` is strongly discouraged, as it violates Nominatim's ToS https://operations.osmfoundation.org/policies/nominatim/ and may possibly cause 403 and 429 HTTP errors. Please specify a custom `user_agent` with `Nominatim(user_agent=\"my-application\")` or by overriding the default `user_agent`: `geopy.geocoders.options.default_user_agent = \"my-application\"`. In geopy 2.0 this will become an exception.\n",
      "  This is separate from the ipykernel package so we can avoid doing imports until\n"
     ]
    },
    {
     "name": "stdout",
     "output_type": "stream",
     "text": [
      "The geograpical coordinate of Toronto are 43.6534817, -79.3839347.\n"
     ]
    }
   ],
   "source": [
    "address = 'Toronto, CA'\n",
    "\n",
    "geolocator = Nominatim()\n",
    "location = geolocator.geocode(address)\n",
    "latitude = location.latitude\n",
    "longitude = location.longitude\n",
    "print('The geograpical coordinate of Toronto are {}, {}.'.format(latitude, longitude))"
   ]
  },
  {
   "cell_type": "markdown",
   "metadata": {},
   "source": [
    "# Create a map of Toronto"
   ]
  },
  {
   "cell_type": "code",
   "execution_count": 71,
   "metadata": {},
   "outputs": [],
   "source": [
    "# create map of Toronto using latitude and longitude values\n",
    "map_toronto_neighbourhoods = folium.Map(location=[latitude, longitude], zoom_start=10)\n",
    "\n",
    "# add markers to map\n",
    "for lat, lng, borough, neighbourhood in zip(data['Latitude'], data['Longitude'], data['Borough'], data['Neighbourhood']):\n",
    "    label = '{}, {}'.format(neighbourhood, borough)\n",
    "    label = folium.Popup(label, parse_html=True)\n",
    "    folium.CircleMarker(\n",
    "        [lat, lng],\n",
    "        radius=2,\n",
    "        popup=label,\n",
    "        color='blue',\n",
    "        fill=True,\n",
    "        fill_color='#3186cc',\n",
    "        fill_opacity=0.7,\n",
    "        parse_html=False).add_to(map_toronto_neighbourhoods)  \n",
    "    \n",
    "map_toronto_neighbourhoods\n",
    "\n",
    "map_toronto_neighbourhoods.save(\"map_toronto_neighbourhoods.html\")"
   ]
  },
  {
   "cell_type": "code",
   "execution_count": 72,
   "metadata": {},
   "outputs": [
    {
     "data": {
      "text/html": [
       "<div style=\"width:100%;\"><div style=\"position:relative;width:100%;height:0;padding-bottom:60%;\"><span style=\"color:#565656\">Make this Notebook Trusted to load map: File -> Trust Notebook</span><iframe src=\"about:blank\" style=\"position:absolute;width:100%;height:100%;left:0;top:0;border:none !important;\" data-html=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 onload=\"this.contentDocument.open();this.contentDocument.write(atob(this.getAttribute('data-html')));this.contentDocument.close();\" allowfullscreen webkitallowfullscreen mozallowfullscreen></iframe></div></div>"
      ],
      "text/plain": [
       "<folium.folium.Map at 0x4ac31182b0>"
      ]
     },
     "execution_count": 72,
     "metadata": {},
     "output_type": "execute_result"
    }
   ],
   "source": [
    "map_toronto_neighbourhoods"
   ]
  },
  {
   "cell_type": "code",
   "execution_count": 73,
   "metadata": {},
   "outputs": [
    {
     "name": "stderr",
     "output_type": "stream",
     "text": [
      "C:\\Users\\USER\\Anaconda3\\lib\\site-packages\\ipykernel_launcher.py:3: DeprecationWarning: Using Nominatim with the default \"geopy/1.22.0\" `user_agent` is strongly discouraged, as it violates Nominatim's ToS https://operations.osmfoundation.org/policies/nominatim/ and may possibly cause 403 and 429 HTTP errors. Please specify a custom `user_agent` with `Nominatim(user_agent=\"my-application\")` or by overriding the default `user_agent`: `geopy.geocoders.options.default_user_agent = \"my-application\"`. In geopy 2.0 this will become an exception.\n",
      "  This is separate from the ipykernel package so we can avoid doing imports until\n"
     ]
    },
    {
     "name": "stdout",
     "output_type": "stream",
     "text": [
      "The geograpical coordinates of York, Toronto are 43.6896191, -79.479188.\n"
     ]
    }
   ],
   "source": [
    "address = 'York, Toronto'\n",
    "\n",
    "geolocator = Nominatim()\n",
    "location = geolocator.geocode(address)\n",
    "latitude = location.latitude\n",
    "longitude = location.longitude\n",
    "print('The geograpical coordinates of York, Toronto are {}, {}.'.format(latitude, longitude))"
   ]
  },
  {
   "cell_type": "code",
   "execution_count": 75,
   "metadata": {},
   "outputs": [
    {
     "data": {
      "text/html": [
       "<div>\n",
       "<style scoped>\n",
       "    .dataframe tbody tr th:only-of-type {\n",
       "        vertical-align: middle;\n",
       "    }\n",
       "\n",
       "    .dataframe tbody tr th {\n",
       "        vertical-align: top;\n",
       "    }\n",
       "\n",
       "    .dataframe thead th {\n",
       "        text-align: right;\n",
       "    }\n",
       "</style>\n",
       "<table border=\"1\" class=\"dataframe\">\n",
       "  <thead>\n",
       "    <tr style=\"text-align: right;\">\n",
       "      <th></th>\n",
       "      <th>PostalCode</th>\n",
       "      <th>Borough</th>\n",
       "      <th>Neighbourhood</th>\n",
       "      <th>Latitude</th>\n",
       "      <th>Longitude</th>\n",
       "    </tr>\n",
       "  </thead>\n",
       "  <tbody>\n",
       "    <tr>\n",
       "      <th>0</th>\n",
       "      <td>M6C</td>\n",
       "      <td>York</td>\n",
       "      <td>Humewood-Cedarvale</td>\n",
       "      <td>43.693781</td>\n",
       "      <td>-79.428191</td>\n",
       "    </tr>\n",
       "    <tr>\n",
       "      <th>1</th>\n",
       "      <td>M6E</td>\n",
       "      <td>York</td>\n",
       "      <td>Caledonia-Fairbanks</td>\n",
       "      <td>43.689026</td>\n",
       "      <td>-79.453512</td>\n",
       "    </tr>\n",
       "    <tr>\n",
       "      <th>2</th>\n",
       "      <td>M6M</td>\n",
       "      <td>York</td>\n",
       "      <td>Del Ray, Mount Dennis, Keelsdale and Silverthorn</td>\n",
       "      <td>43.691116</td>\n",
       "      <td>-79.476013</td>\n",
       "    </tr>\n",
       "    <tr>\n",
       "      <th>3</th>\n",
       "      <td>M6N</td>\n",
       "      <td>York</td>\n",
       "      <td>Runnymede, The Junction North</td>\n",
       "      <td>43.673185</td>\n",
       "      <td>-79.487262</td>\n",
       "    </tr>\n",
       "    <tr>\n",
       "      <th>4</th>\n",
       "      <td>M9N</td>\n",
       "      <td>York</td>\n",
       "      <td>Weston</td>\n",
       "      <td>43.706876</td>\n",
       "      <td>-79.518188</td>\n",
       "    </tr>\n",
       "  </tbody>\n",
       "</table>\n",
       "</div>"
      ],
      "text/plain": [
       "  PostalCode Borough                                     Neighbourhood  \\\n",
       "0        M6C    York                                Humewood-Cedarvale   \n",
       "1        M6E    York                               Caledonia-Fairbanks   \n",
       "2        M6M    York  Del Ray, Mount Dennis, Keelsdale and Silverthorn   \n",
       "3        M6N    York                     Runnymede, The Junction North   \n",
       "4        M9N    York                                            Weston   \n",
       "\n",
       "    Latitude  Longitude  \n",
       "0  43.693781 -79.428191  \n",
       "1  43.689026 -79.453512  \n",
       "2  43.691116 -79.476013  \n",
       "3  43.673185 -79.487262  \n",
       "4  43.706876 -79.518188  "
      ]
     },
     "execution_count": 75,
     "metadata": {},
     "output_type": "execute_result"
    }
   ],
   "source": [
    "york_data = data[data['Borough'] == 'York'].reset_index(drop=True)\n",
    "york_data"
   ]
  },
  {
   "cell_type": "code",
   "execution_count": 76,
   "metadata": {},
   "outputs": [],
   "source": [
    "# create map of Manhattan using latitude and longitude values\n",
    "map_york_toronto = folium.Map(location=[latitude, longitude], zoom_start=11)\n",
    "\n",
    "# add markers to map\n",
    "for lat, lng, label in zip(york_data['Latitude'], york_data['Longitude'], york_data['Neighbourhood']):\n",
    "    label = folium.Popup(label, parse_html=True)\n",
    "    folium.CircleMarker(\n",
    "        [lat, lng],\n",
    "        radius=5,\n",
    "        popup=label,\n",
    "        color='blue',\n",
    "        fill=True,\n",
    "        fill_color='#3186cc',\n",
    "        fill_opacity=0.7,\n",
    "        parse_html=False).add_to(map_york_toronto)  \n",
    "    \n",
    "map_york_toronto\n",
    "\n",
    "map_york_toronto.save(\"map_york_toronto.html\")"
   ]
  },
  {
   "cell_type": "markdown",
   "metadata": {},
   "source": [
    "# Foursquare"
   ]
  },
  {
   "cell_type": "code",
   "execution_count": 77,
   "metadata": {},
   "outputs": [
    {
     "name": "stdout",
     "output_type": "stream",
     "text": [
      "Your credentails:\n",
      "CLIENT_ID: U5K2KSNL1TWAUWYI01BISUVJNY0WYQXK3UZCM5ANATFTNPBC\n",
      "CLIENT_SECRET:JULMAXF02HQ2OOURGR10AGPT0QIWSEON1RZUBOAWLPU5K0VK\n"
     ]
    }
   ],
   "source": [
    "# define Foursquare Credentials and Version\n",
    "CLIENT_ID = 'U5K2KSNL1TWAUWYI01BISUVJNY0WYQXK3UZCM5ANATFTNPBC' # your Foursquare ID\n",
    "CLIENT_SECRET = 'JULMAXF02HQ2OOURGR10AGPT0QIWSEON1RZUBOAWLPU5K0VK' # your Foursquare Secret\n",
    "VERSION = '20180605' # Foursquare API version\n",
    "\n",
    "print('Your credentails:')\n",
    "print('CLIENT_ID: ' + CLIENT_ID)\n",
    "print('CLIENT_SECRET:' + CLIENT_SECRET)"
   ]
  },
  {
   "cell_type": "code",
   "execution_count": 78,
   "metadata": {},
   "outputs": [
    {
     "name": "stdout",
     "output_type": "stream",
     "text": [
      "Latitude and longitude values of Humewood-Cedarvale are 43.6937813, -79.42819140000002.\n"
     ]
    }
   ],
   "source": [
    "neighbourhood_latitude = york_data.loc[0, 'Latitude'] # neighborhood latitude value\n",
    "neighbourhood_longitude = york_data.loc[0, 'Longitude'] # neighborhood longitude value\n",
    "\n",
    "neighbourhood_name = york_data.loc[0, 'Neighbourhood'] # neighborhood name\n",
    "\n",
    "print('Latitude and longitude values of {} are {}, {}.'.format(neighbourhood_name, \n",
    "                                                               neighbourhood_latitude, \n",
    "                                                               neighbourhood_longitude))"
   ]
  },
  {
   "cell_type": "markdown",
   "metadata": {},
   "source": [
    "**Now, let's get the top 100 venues that are in Caledonia-Fairbanks within a radius of 500 meters**"
   ]
  },
  {
   "cell_type": "code",
   "execution_count": 79,
   "metadata": {},
   "outputs": [
    {
     "data": {
      "text/plain": [
       "'https://api.foursquare.com/v2/venues/explore?&client_id=U5K2KSNL1TWAUWYI01BISUVJNY0WYQXK3UZCM5ANATFTNPBC&client_secret=JULMAXF02HQ2OOURGR10AGPT0QIWSEON1RZUBOAWLPU5K0VK&v=20180605&ll=43.6937813,-79.42819140000002&radius=500&limit=100'"
      ]
     },
     "execution_count": 79,
     "metadata": {},
     "output_type": "execute_result"
    }
   ],
   "source": [
    "LIMIT = 100\n",
    "\n",
    "radius = 500\n",
    "\n",
    "url = 'https://api.foursquare.com/v2/venues/explore?&client_id={}&client_secret={}&v={}&ll={},{}&radius={}&limit={}'.format(\n",
    "\n",
    "CLIENT_ID, \n",
    "\n",
    "CLIENT_SECRET, \n",
    "\n",
    "VERSION, \n",
    "\n",
    "neighbourhood_latitude, \n",
    "\n",
    "neighbourhood_longitude, \n",
    "\n",
    "radius, \n",
    "\n",
    "LIMIT)\n",
    "\n",
    "url"
   ]
  },
  {
   "cell_type": "code",
   "execution_count": 80,
   "metadata": {},
   "outputs": [],
   "source": [
    "york_results = requests.get(url).json()\n",
    "#york_results"
   ]
  },
  {
   "cell_type": "markdown",
   "metadata": {},
   "source": [
    "**Get the most common venue categories in each neighborhood**"
   ]
  },
  {
   "cell_type": "code",
   "execution_count": 81,
   "metadata": {},
   "outputs": [],
   "source": [
    "# function that extracts the category of the venue\n",
    "def get_category_type(row):\n",
    "    try:\n",
    "        categories_list = row['categories']\n",
    "    except:\n",
    "        categories_list = row['venue.categories']\n",
    "        \n",
    "    if len(categories_list) == 0:\n",
    "        return None\n",
    "    else:\n",
    "        return categories_list[0]['name']"
   ]
  },
  {
   "cell_type": "code",
   "execution_count": 82,
   "metadata": {},
   "outputs": [
    {
     "data": {
      "text/html": [
       "<div>\n",
       "<style scoped>\n",
       "    .dataframe tbody tr th:only-of-type {\n",
       "        vertical-align: middle;\n",
       "    }\n",
       "\n",
       "    .dataframe tbody tr th {\n",
       "        vertical-align: top;\n",
       "    }\n",
       "\n",
       "    .dataframe thead th {\n",
       "        text-align: right;\n",
       "    }\n",
       "</style>\n",
       "<table border=\"1\" class=\"dataframe\">\n",
       "  <thead>\n",
       "    <tr style=\"text-align: right;\">\n",
       "      <th></th>\n",
       "      <th>name</th>\n",
       "      <th>categories</th>\n",
       "      <th>lat</th>\n",
       "      <th>lng</th>\n",
       "    </tr>\n",
       "  </thead>\n",
       "  <tbody>\n",
       "    <tr>\n",
       "      <th>0</th>\n",
       "      <td>Cedarvale Park</td>\n",
       "      <td>Field</td>\n",
       "      <td>43.692535</td>\n",
       "      <td>-79.428705</td>\n",
       "    </tr>\n",
       "    <tr>\n",
       "      <th>1</th>\n",
       "      <td>Cedarvale Ravine</td>\n",
       "      <td>Trail</td>\n",
       "      <td>43.690188</td>\n",
       "      <td>-79.426106</td>\n",
       "    </tr>\n",
       "    <tr>\n",
       "      <th>2</th>\n",
       "      <td>Phil White Arena</td>\n",
       "      <td>Hockey Arena</td>\n",
       "      <td>43.691303</td>\n",
       "      <td>-79.431761</td>\n",
       "    </tr>\n",
       "    <tr>\n",
       "      <th>3</th>\n",
       "      <td>Prince's Parkette</td>\n",
       "      <td>Park</td>\n",
       "      <td>43.697385</td>\n",
       "      <td>-79.424704</td>\n",
       "    </tr>\n",
       "  </tbody>\n",
       "</table>\n",
       "</div>"
      ],
      "text/plain": [
       "                name    categories        lat        lng\n",
       "0     Cedarvale Park         Field  43.692535 -79.428705\n",
       "1   Cedarvale Ravine         Trail  43.690188 -79.426106\n",
       "2   Phil White Arena  Hockey Arena  43.691303 -79.431761\n",
       "3  Prince's Parkette          Park  43.697385 -79.424704"
      ]
     },
     "execution_count": 82,
     "metadata": {},
     "output_type": "execute_result"
    }
   ],
   "source": [
    "york_venues = york_results['response']['groups'][0]['items']\n",
    "    \n",
    "york_nearby_venues = json_normalize(york_venues) # flatten JSON\n",
    "\n",
    "# filter columns\n",
    "york_filtered_columns = ['venue.name', 'venue.categories', 'venue.location.lat', 'venue.location.lng']\n",
    "york_nearby_venues = york_nearby_venues.loc[:, york_filtered_columns]\n",
    "\n",
    "# filter the category for each row\n",
    "york_nearby_venues['venue.categories'] = york_nearby_venues.apply(get_category_type, axis=1)\n",
    "\n",
    "# clean columns\n",
    "york_nearby_venues.columns = [col.split(\".\")[-1] for col in york_nearby_venues.columns]\n",
    "\n",
    "york_nearby_venues.head()\n"
   ]
  },
  {
   "cell_type": "code",
   "execution_count": 83,
   "metadata": {},
   "outputs": [
    {
     "name": "stdout",
     "output_type": "stream",
     "text": [
      "<class 'pandas.core.frame.DataFrame'>\n",
      "RangeIndex: 4 entries, 0 to 3\n",
      "Data columns (total 4 columns):\n",
      "name          4 non-null object\n",
      "categories    4 non-null object\n",
      "lat           4 non-null float64\n",
      "lng           4 non-null float64\n",
      "dtypes: float64(2), object(2)\n",
      "memory usage: 208.0+ bytes\n"
     ]
    }
   ],
   "source": [
    "york_nearby_venues.info()"
   ]
  },
  {
   "cell_type": "code",
   "execution_count": 84,
   "metadata": {},
   "outputs": [
    {
     "name": "stdout",
     "output_type": "stream",
     "text": [
      "4 venues were returned by Foursquare.\n"
     ]
    }
   ],
   "source": [
    "print('{} venues were returned by Foursquare.'.format(york_nearby_venues.shape[0]))"
   ]
  },
  {
   "cell_type": "markdown",
   "metadata": {},
   "source": [
    "**Let's create a function to repeat the same process to all the neighborhoods in York**"
   ]
  },
  {
   "cell_type": "code",
   "execution_count": 85,
   "metadata": {},
   "outputs": [],
   "source": [
    "def getNearbyVenues(names, latitudes, longitudes, radius=500):\n",
    "    \n",
    "    venues_list=[]\n",
    "    for name, lat, lng in zip(names, latitudes, longitudes):\n",
    "        print(name)\n",
    "            \n",
    "        # create the API request URL\n",
    "        url = 'https://api.foursquare.com/v2/venues/explore?&client_id={}&client_secret={}&v={}&ll={},{}&radius={}&limit={}'.format(\n",
    "            CLIENT_ID, \n",
    "            CLIENT_SECRET, \n",
    "            VERSION, \n",
    "            lat, \n",
    "            lng, \n",
    "            radius, \n",
    "            LIMIT)\n",
    "            \n",
    "        # make the GET request\n",
    "        results = requests.get(url).json()[\"response\"]['groups'][0]['items']\n",
    "        \n",
    "        # return only relevant information for each nearby venue\n",
    "        venues_list.append([(\n",
    "            name, \n",
    "            lat, \n",
    "            lng, \n",
    "            v['venue']['name'], \n",
    "            v['venue']['location']['lat'], \n",
    "            v['venue']['location']['lng'],  \n",
    "            v['venue']['categories'][0]['name']) for v in results])\n",
    "\n",
    "    nearby_venues = pd.DataFrame([item for venue_list in venues_list for item in venue_list])\n",
    "    nearby_venues.columns = ['Neighbourhood', \n",
    "                  'Neighbourhood Latitude', \n",
    "                  'Neighbourhood Longitude', \n",
    "                  'Venue', \n",
    "                  'Venue Latitude', \n",
    "                  'Venue Longitude', \n",
    "                  'Venue Category']\n",
    "    \n",
    "    return(nearby_venues)"
   ]
  },
  {
   "cell_type": "code",
   "execution_count": 86,
   "metadata": {},
   "outputs": [
    {
     "name": "stdout",
     "output_type": "stream",
     "text": [
      "Humewood-Cedarvale\n",
      "Caledonia-Fairbanks\n",
      "Del Ray, Mount Dennis, Keelsdale and Silverthorn\n",
      "Runnymede, The Junction North\n",
      "Weston\n"
     ]
    }
   ],
   "source": [
    "york_venues = getNearbyVenues(names=york_data['Neighbourhood'],\n",
    "                                   latitudes=york_data['Latitude'],\n",
    "                                   longitudes=york_data['Longitude']\n",
    "                                  )"
   ]
  },
  {
   "cell_type": "code",
   "execution_count": 87,
   "metadata": {},
   "outputs": [
    {
     "data": {
      "text/html": [
       "<div>\n",
       "<style scoped>\n",
       "    .dataframe tbody tr th:only-of-type {\n",
       "        vertical-align: middle;\n",
       "    }\n",
       "\n",
       "    .dataframe tbody tr th {\n",
       "        vertical-align: top;\n",
       "    }\n",
       "\n",
       "    .dataframe thead th {\n",
       "        text-align: right;\n",
       "    }\n",
       "</style>\n",
       "<table border=\"1\" class=\"dataframe\">\n",
       "  <thead>\n",
       "    <tr style=\"text-align: right;\">\n",
       "      <th></th>\n",
       "      <th>Neighbourhood</th>\n",
       "      <th>Neighbourhood Latitude</th>\n",
       "      <th>Neighbourhood Longitude</th>\n",
       "      <th>Venue</th>\n",
       "      <th>Venue Latitude</th>\n",
       "      <th>Venue Longitude</th>\n",
       "      <th>Venue Category</th>\n",
       "    </tr>\n",
       "  </thead>\n",
       "  <tbody>\n",
       "    <tr>\n",
       "      <th>0</th>\n",
       "      <td>Humewood-Cedarvale</td>\n",
       "      <td>43.693781</td>\n",
       "      <td>-79.428191</td>\n",
       "      <td>Cedarvale Park</td>\n",
       "      <td>43.692535</td>\n",
       "      <td>-79.428705</td>\n",
       "      <td>Field</td>\n",
       "    </tr>\n",
       "    <tr>\n",
       "      <th>1</th>\n",
       "      <td>Humewood-Cedarvale</td>\n",
       "      <td>43.693781</td>\n",
       "      <td>-79.428191</td>\n",
       "      <td>Cedarvale Ravine</td>\n",
       "      <td>43.690188</td>\n",
       "      <td>-79.426106</td>\n",
       "      <td>Trail</td>\n",
       "    </tr>\n",
       "    <tr>\n",
       "      <th>2</th>\n",
       "      <td>Humewood-Cedarvale</td>\n",
       "      <td>43.693781</td>\n",
       "      <td>-79.428191</td>\n",
       "      <td>Phil White Arena</td>\n",
       "      <td>43.691303</td>\n",
       "      <td>-79.431761</td>\n",
       "      <td>Hockey Arena</td>\n",
       "    </tr>\n",
       "    <tr>\n",
       "      <th>3</th>\n",
       "      <td>Humewood-Cedarvale</td>\n",
       "      <td>43.693781</td>\n",
       "      <td>-79.428191</td>\n",
       "      <td>Prince's Parkette</td>\n",
       "      <td>43.697385</td>\n",
       "      <td>-79.424704</td>\n",
       "      <td>Park</td>\n",
       "    </tr>\n",
       "    <tr>\n",
       "      <th>4</th>\n",
       "      <td>Caledonia-Fairbanks</td>\n",
       "      <td>43.689026</td>\n",
       "      <td>-79.453512</td>\n",
       "      <td>Nairn Park</td>\n",
       "      <td>43.690654</td>\n",
       "      <td>-79.456300</td>\n",
       "      <td>Park</td>\n",
       "    </tr>\n",
       "  </tbody>\n",
       "</table>\n",
       "</div>"
      ],
      "text/plain": [
       "         Neighbourhood  Neighbourhood Latitude  Neighbourhood Longitude  \\\n",
       "0   Humewood-Cedarvale               43.693781               -79.428191   \n",
       "1   Humewood-Cedarvale               43.693781               -79.428191   \n",
       "2   Humewood-Cedarvale               43.693781               -79.428191   \n",
       "3   Humewood-Cedarvale               43.693781               -79.428191   \n",
       "4  Caledonia-Fairbanks               43.689026               -79.453512   \n",
       "\n",
       "               Venue  Venue Latitude  Venue Longitude Venue Category  \n",
       "0     Cedarvale Park       43.692535       -79.428705          Field  \n",
       "1   Cedarvale Ravine       43.690188       -79.426106          Trail  \n",
       "2   Phil White Arena       43.691303       -79.431761   Hockey Arena  \n",
       "3  Prince's Parkette       43.697385       -79.424704           Park  \n",
       "4         Nairn Park       43.690654       -79.456300           Park  "
      ]
     },
     "execution_count": 87,
     "metadata": {},
     "output_type": "execute_result"
    }
   ],
   "source": [
    "york_venues.head()"
   ]
  },
  {
   "cell_type": "markdown",
   "metadata": {},
   "source": [
    "**Let's see how many venues were returned for each neighborhood:**"
   ]
  },
  {
   "cell_type": "code",
   "execution_count": 88,
   "metadata": {},
   "outputs": [
    {
     "data": {
      "text/html": [
       "<div>\n",
       "<style scoped>\n",
       "    .dataframe tbody tr th:only-of-type {\n",
       "        vertical-align: middle;\n",
       "    }\n",
       "\n",
       "    .dataframe tbody tr th {\n",
       "        vertical-align: top;\n",
       "    }\n",
       "\n",
       "    .dataframe thead th {\n",
       "        text-align: right;\n",
       "    }\n",
       "</style>\n",
       "<table border=\"1\" class=\"dataframe\">\n",
       "  <thead>\n",
       "    <tr style=\"text-align: right;\">\n",
       "      <th></th>\n",
       "      <th>Neighbourhood Latitude</th>\n",
       "      <th>Neighbourhood Longitude</th>\n",
       "      <th>Venue</th>\n",
       "      <th>Venue Latitude</th>\n",
       "      <th>Venue Longitude</th>\n",
       "      <th>Venue Category</th>\n",
       "    </tr>\n",
       "    <tr>\n",
       "      <th>Neighbourhood</th>\n",
       "      <th></th>\n",
       "      <th></th>\n",
       "      <th></th>\n",
       "      <th></th>\n",
       "      <th></th>\n",
       "      <th></th>\n",
       "    </tr>\n",
       "  </thead>\n",
       "  <tbody>\n",
       "    <tr>\n",
       "      <th>Caledonia-Fairbanks</th>\n",
       "      <td>4</td>\n",
       "      <td>4</td>\n",
       "      <td>4</td>\n",
       "      <td>4</td>\n",
       "      <td>4</td>\n",
       "      <td>4</td>\n",
       "    </tr>\n",
       "    <tr>\n",
       "      <th>Del Ray, Mount Dennis, Keelsdale and Silverthorn</th>\n",
       "      <td>4</td>\n",
       "      <td>4</td>\n",
       "      <td>4</td>\n",
       "      <td>4</td>\n",
       "      <td>4</td>\n",
       "      <td>4</td>\n",
       "    </tr>\n",
       "    <tr>\n",
       "      <th>Humewood-Cedarvale</th>\n",
       "      <td>4</td>\n",
       "      <td>4</td>\n",
       "      <td>4</td>\n",
       "      <td>4</td>\n",
       "      <td>4</td>\n",
       "      <td>4</td>\n",
       "    </tr>\n",
       "    <tr>\n",
       "      <th>Runnymede, The Junction North</th>\n",
       "      <td>3</td>\n",
       "      <td>3</td>\n",
       "      <td>3</td>\n",
       "      <td>3</td>\n",
       "      <td>3</td>\n",
       "      <td>3</td>\n",
       "    </tr>\n",
       "    <tr>\n",
       "      <th>Weston</th>\n",
       "      <td>2</td>\n",
       "      <td>2</td>\n",
       "      <td>2</td>\n",
       "      <td>2</td>\n",
       "      <td>2</td>\n",
       "      <td>2</td>\n",
       "    </tr>\n",
       "  </tbody>\n",
       "</table>\n",
       "</div>"
      ],
      "text/plain": [
       "                                                  Neighbourhood Latitude  \\\n",
       "Neighbourhood                                                              \n",
       "Caledonia-Fairbanks                                                    4   \n",
       "Del Ray, Mount Dennis, Keelsdale and Silverthorn                       4   \n",
       "Humewood-Cedarvale                                                     4   \n",
       "Runnymede, The Junction North                                          3   \n",
       "Weston                                                                 2   \n",
       "\n",
       "                                                  Neighbourhood Longitude  \\\n",
       "Neighbourhood                                                               \n",
       "Caledonia-Fairbanks                                                     4   \n",
       "Del Ray, Mount Dennis, Keelsdale and Silverthorn                        4   \n",
       "Humewood-Cedarvale                                                      4   \n",
       "Runnymede, The Junction North                                           3   \n",
       "Weston                                                                  2   \n",
       "\n",
       "                                                  Venue  Venue Latitude  \\\n",
       "Neighbourhood                                                             \n",
       "Caledonia-Fairbanks                                   4               4   \n",
       "Del Ray, Mount Dennis, Keelsdale and Silverthorn      4               4   \n",
       "Humewood-Cedarvale                                    4               4   \n",
       "Runnymede, The Junction North                         3               3   \n",
       "Weston                                                2               2   \n",
       "\n",
       "                                                  Venue Longitude  \\\n",
       "Neighbourhood                                                       \n",
       "Caledonia-Fairbanks                                             4   \n",
       "Del Ray, Mount Dennis, Keelsdale and Silverthorn                4   \n",
       "Humewood-Cedarvale                                              4   \n",
       "Runnymede, The Junction North                                   3   \n",
       "Weston                                                          2   \n",
       "\n",
       "                                                  Venue Category  \n",
       "Neighbourhood                                                     \n",
       "Caledonia-Fairbanks                                            4  \n",
       "Del Ray, Mount Dennis, Keelsdale and Silverthorn               4  \n",
       "Humewood-Cedarvale                                             4  \n",
       "Runnymede, The Junction North                                  3  \n",
       "Weston                                                         2  "
      ]
     },
     "execution_count": 88,
     "metadata": {},
     "output_type": "execute_result"
    }
   ],
   "source": [
    "york_venues.groupby('Neighbourhood').count()"
   ]
  },
  {
   "cell_type": "markdown",
   "metadata": {},
   "source": [
    "**Now let's see how many types of venues there are in York:**"
   ]
  },
  {
   "cell_type": "code",
   "execution_count": 89,
   "metadata": {},
   "outputs": [
    {
     "name": "stdout",
     "output_type": "stream",
     "text": [
      "There are 12 uniques categories.\n"
     ]
    }
   ],
   "source": [
    "print('There are {} uniques categories.'.format(len(york_venues['Venue Category'].unique())))"
   ]
  },
  {
   "cell_type": "markdown",
   "metadata": {},
   "source": [
    "#  Used these features to group the neighborhoods into clusters"
   ]
  },
  {
   "cell_type": "code",
   "execution_count": 90,
   "metadata": {},
   "outputs": [
    {
     "data": {
      "text/html": [
       "<div>\n",
       "<style scoped>\n",
       "    .dataframe tbody tr th:only-of-type {\n",
       "        vertical-align: middle;\n",
       "    }\n",
       "\n",
       "    .dataframe tbody tr th {\n",
       "        vertical-align: top;\n",
       "    }\n",
       "\n",
       "    .dataframe thead th {\n",
       "        text-align: right;\n",
       "    }\n",
       "</style>\n",
       "<table border=\"1\" class=\"dataframe\">\n",
       "  <thead>\n",
       "    <tr style=\"text-align: right;\">\n",
       "      <th></th>\n",
       "      <th>Neighbourhood</th>\n",
       "      <th>Bar</th>\n",
       "      <th>Bus Line</th>\n",
       "      <th>Coffee Shop</th>\n",
       "      <th>Convenience Store</th>\n",
       "      <th>Discount Store</th>\n",
       "      <th>Field</th>\n",
       "      <th>Hockey Arena</th>\n",
       "      <th>Park</th>\n",
       "      <th>Pizza Place</th>\n",
       "      <th>Sandwich Place</th>\n",
       "      <th>Trail</th>\n",
       "      <th>Women's Store</th>\n",
       "    </tr>\n",
       "  </thead>\n",
       "  <tbody>\n",
       "    <tr>\n",
       "      <th>0</th>\n",
       "      <td>Humewood-Cedarvale</td>\n",
       "      <td>0</td>\n",
       "      <td>0</td>\n",
       "      <td>0</td>\n",
       "      <td>0</td>\n",
       "      <td>0</td>\n",
       "      <td>1</td>\n",
       "      <td>0</td>\n",
       "      <td>0</td>\n",
       "      <td>0</td>\n",
       "      <td>0</td>\n",
       "      <td>0</td>\n",
       "      <td>0</td>\n",
       "    </tr>\n",
       "    <tr>\n",
       "      <th>1</th>\n",
       "      <td>Humewood-Cedarvale</td>\n",
       "      <td>0</td>\n",
       "      <td>0</td>\n",
       "      <td>0</td>\n",
       "      <td>0</td>\n",
       "      <td>0</td>\n",
       "      <td>0</td>\n",
       "      <td>0</td>\n",
       "      <td>0</td>\n",
       "      <td>0</td>\n",
       "      <td>0</td>\n",
       "      <td>1</td>\n",
       "      <td>0</td>\n",
       "    </tr>\n",
       "    <tr>\n",
       "      <th>2</th>\n",
       "      <td>Humewood-Cedarvale</td>\n",
       "      <td>0</td>\n",
       "      <td>0</td>\n",
       "      <td>0</td>\n",
       "      <td>0</td>\n",
       "      <td>0</td>\n",
       "      <td>0</td>\n",
       "      <td>1</td>\n",
       "      <td>0</td>\n",
       "      <td>0</td>\n",
       "      <td>0</td>\n",
       "      <td>0</td>\n",
       "      <td>0</td>\n",
       "    </tr>\n",
       "    <tr>\n",
       "      <th>3</th>\n",
       "      <td>Humewood-Cedarvale</td>\n",
       "      <td>0</td>\n",
       "      <td>0</td>\n",
       "      <td>0</td>\n",
       "      <td>0</td>\n",
       "      <td>0</td>\n",
       "      <td>0</td>\n",
       "      <td>0</td>\n",
       "      <td>1</td>\n",
       "      <td>0</td>\n",
       "      <td>0</td>\n",
       "      <td>0</td>\n",
       "      <td>0</td>\n",
       "    </tr>\n",
       "    <tr>\n",
       "      <th>4</th>\n",
       "      <td>Caledonia-Fairbanks</td>\n",
       "      <td>0</td>\n",
       "      <td>0</td>\n",
       "      <td>0</td>\n",
       "      <td>0</td>\n",
       "      <td>0</td>\n",
       "      <td>0</td>\n",
       "      <td>0</td>\n",
       "      <td>1</td>\n",
       "      <td>0</td>\n",
       "      <td>0</td>\n",
       "      <td>0</td>\n",
       "      <td>0</td>\n",
       "    </tr>\n",
       "  </tbody>\n",
       "</table>\n",
       "</div>"
      ],
      "text/plain": [
       "         Neighbourhood  Bar  Bus Line  Coffee Shop  Convenience Store  \\\n",
       "0   Humewood-Cedarvale    0         0            0                  0   \n",
       "1   Humewood-Cedarvale    0         0            0                  0   \n",
       "2   Humewood-Cedarvale    0         0            0                  0   \n",
       "3   Humewood-Cedarvale    0         0            0                  0   \n",
       "4  Caledonia-Fairbanks    0         0            0                  0   \n",
       "\n",
       "   Discount Store  Field  Hockey Arena  Park  Pizza Place  Sandwich Place  \\\n",
       "0               0      1             0     0            0               0   \n",
       "1               0      0             0     0            0               0   \n",
       "2               0      0             1     0            0               0   \n",
       "3               0      0             0     1            0               0   \n",
       "4               0      0             0     1            0               0   \n",
       "\n",
       "   Trail  Women's Store  \n",
       "0      0              0  \n",
       "1      1              0  \n",
       "2      0              0  \n",
       "3      0              0  \n",
       "4      0              0  "
      ]
     },
     "execution_count": 90,
     "metadata": {},
     "output_type": "execute_result"
    }
   ],
   "source": [
    "# one hot encoding\n",
    "york_onehot = pd.get_dummies(york_venues[['Venue Category']], prefix=\"\", prefix_sep=\"\")\n",
    "\n",
    "# add neighborhood column back to dataframe\n",
    "york_onehot['Neighbourhood'] = york_venues['Neighbourhood'] \n",
    "\n",
    "# move neighborhood column to the first column\n",
    "york_fixed_columns = [york_onehot.columns[-1]] + list(york_onehot.columns[:-1])\n",
    "york_onehot = york_onehot[york_fixed_columns]\n",
    "\n",
    "york_onehot.head()"
   ]
  },
  {
   "cell_type": "code",
   "execution_count": 91,
   "metadata": {},
   "outputs": [
    {
     "data": {
      "text/html": [
       "<div>\n",
       "<style scoped>\n",
       "    .dataframe tbody tr th:only-of-type {\n",
       "        vertical-align: middle;\n",
       "    }\n",
       "\n",
       "    .dataframe tbody tr th {\n",
       "        vertical-align: top;\n",
       "    }\n",
       "\n",
       "    .dataframe thead th {\n",
       "        text-align: right;\n",
       "    }\n",
       "</style>\n",
       "<table border=\"1\" class=\"dataframe\">\n",
       "  <thead>\n",
       "    <tr style=\"text-align: right;\">\n",
       "      <th></th>\n",
       "      <th>Neighbourhood</th>\n",
       "      <th>Bar</th>\n",
       "      <th>Bus Line</th>\n",
       "      <th>Coffee Shop</th>\n",
       "      <th>Convenience Store</th>\n",
       "      <th>Discount Store</th>\n",
       "      <th>Field</th>\n",
       "      <th>Hockey Arena</th>\n",
       "      <th>Park</th>\n",
       "      <th>Pizza Place</th>\n",
       "      <th>Sandwich Place</th>\n",
       "      <th>Trail</th>\n",
       "      <th>Women's Store</th>\n",
       "    </tr>\n",
       "  </thead>\n",
       "  <tbody>\n",
       "    <tr>\n",
       "      <th>0</th>\n",
       "      <td>Caledonia-Fairbanks</td>\n",
       "      <td>0.25</td>\n",
       "      <td>0.000000</td>\n",
       "      <td>0.00</td>\n",
       "      <td>0.000000</td>\n",
       "      <td>0.00</td>\n",
       "      <td>0.00</td>\n",
       "      <td>0.00</td>\n",
       "      <td>0.50</td>\n",
       "      <td>0.000000</td>\n",
       "      <td>0.00</td>\n",
       "      <td>0.00</td>\n",
       "      <td>0.25</td>\n",
       "    </tr>\n",
       "    <tr>\n",
       "      <th>1</th>\n",
       "      <td>Del Ray, Mount Dennis, Keelsdale and Silverthorn</td>\n",
       "      <td>0.00</td>\n",
       "      <td>0.000000</td>\n",
       "      <td>0.25</td>\n",
       "      <td>0.250000</td>\n",
       "      <td>0.25</td>\n",
       "      <td>0.00</td>\n",
       "      <td>0.00</td>\n",
       "      <td>0.00</td>\n",
       "      <td>0.000000</td>\n",
       "      <td>0.25</td>\n",
       "      <td>0.00</td>\n",
       "      <td>0.00</td>\n",
       "    </tr>\n",
       "    <tr>\n",
       "      <th>2</th>\n",
       "      <td>Humewood-Cedarvale</td>\n",
       "      <td>0.00</td>\n",
       "      <td>0.000000</td>\n",
       "      <td>0.00</td>\n",
       "      <td>0.000000</td>\n",
       "      <td>0.00</td>\n",
       "      <td>0.25</td>\n",
       "      <td>0.25</td>\n",
       "      <td>0.25</td>\n",
       "      <td>0.000000</td>\n",
       "      <td>0.00</td>\n",
       "      <td>0.25</td>\n",
       "      <td>0.00</td>\n",
       "    </tr>\n",
       "    <tr>\n",
       "      <th>3</th>\n",
       "      <td>Runnymede, The Junction North</td>\n",
       "      <td>0.00</td>\n",
       "      <td>0.333333</td>\n",
       "      <td>0.00</td>\n",
       "      <td>0.333333</td>\n",
       "      <td>0.00</td>\n",
       "      <td>0.00</td>\n",
       "      <td>0.00</td>\n",
       "      <td>0.00</td>\n",
       "      <td>0.333333</td>\n",
       "      <td>0.00</td>\n",
       "      <td>0.00</td>\n",
       "      <td>0.00</td>\n",
       "    </tr>\n",
       "    <tr>\n",
       "      <th>4</th>\n",
       "      <td>Weston</td>\n",
       "      <td>0.00</td>\n",
       "      <td>0.000000</td>\n",
       "      <td>0.00</td>\n",
       "      <td>0.500000</td>\n",
       "      <td>0.00</td>\n",
       "      <td>0.00</td>\n",
       "      <td>0.00</td>\n",
       "      <td>0.50</td>\n",
       "      <td>0.000000</td>\n",
       "      <td>0.00</td>\n",
       "      <td>0.00</td>\n",
       "      <td>0.00</td>\n",
       "    </tr>\n",
       "  </tbody>\n",
       "</table>\n",
       "</div>"
      ],
      "text/plain": [
       "                                      Neighbourhood   Bar  Bus Line  \\\n",
       "0                               Caledonia-Fairbanks  0.25  0.000000   \n",
       "1  Del Ray, Mount Dennis, Keelsdale and Silverthorn  0.00  0.000000   \n",
       "2                                Humewood-Cedarvale  0.00  0.000000   \n",
       "3                     Runnymede, The Junction North  0.00  0.333333   \n",
       "4                                            Weston  0.00  0.000000   \n",
       "\n",
       "   Coffee Shop  Convenience Store  Discount Store  Field  Hockey Arena  Park  \\\n",
       "0         0.00           0.000000            0.00   0.00          0.00  0.50   \n",
       "1         0.25           0.250000            0.25   0.00          0.00  0.00   \n",
       "2         0.00           0.000000            0.00   0.25          0.25  0.25   \n",
       "3         0.00           0.333333            0.00   0.00          0.00  0.00   \n",
       "4         0.00           0.500000            0.00   0.00          0.00  0.50   \n",
       "\n",
       "   Pizza Place  Sandwich Place  Trail  Women's Store  \n",
       "0     0.000000            0.00   0.00           0.25  \n",
       "1     0.000000            0.25   0.00           0.00  \n",
       "2     0.000000            0.00   0.25           0.00  \n",
       "3     0.333333            0.00   0.00           0.00  \n",
       "4     0.000000            0.00   0.00           0.00  "
      ]
     },
     "execution_count": 91,
     "metadata": {},
     "output_type": "execute_result"
    }
   ],
   "source": [
    "york_grouped = york_onehot.groupby('Neighbourhood').mean().reset_index()\n",
    "york_grouped.head()"
   ]
  },
  {
   "cell_type": "markdown",
   "metadata": {},
   "source": [
    "**Let's find the top venues**"
   ]
  },
  {
   "cell_type": "code",
   "execution_count": 92,
   "metadata": {},
   "outputs": [
    {
     "name": "stdout",
     "output_type": "stream",
     "text": [
      "----Caledonia-Fairbanks----\n",
      "           venue  freq\n",
      "0           Park  0.50\n",
      "1            Bar  0.25\n",
      "2  Women's Store  0.25\n",
      "\n",
      "\n",
      "----Del Ray, Mount Dennis, Keelsdale and Silverthorn----\n",
      "               venue  freq\n",
      "0        Coffee Shop  0.25\n",
      "1  Convenience Store  0.25\n",
      "2     Discount Store  0.25\n",
      "\n",
      "\n",
      "----Humewood-Cedarvale----\n",
      "          venue  freq\n",
      "0         Field  0.25\n",
      "1  Hockey Arena  0.25\n",
      "2          Park  0.25\n",
      "\n",
      "\n",
      "----Runnymede, The Junction North----\n",
      "               venue  freq\n",
      "0           Bus Line  0.33\n",
      "1  Convenience Store  0.33\n",
      "2        Pizza Place  0.33\n",
      "\n",
      "\n",
      "----Weston----\n",
      "               venue  freq\n",
      "0  Convenience Store   0.5\n",
      "1               Park   0.5\n",
      "2                Bar   0.0\n",
      "\n",
      "\n"
     ]
    }
   ],
   "source": [
    "num_top_venues = 3\n",
    "\n",
    "for hood in york_grouped['Neighbourhood']:\n",
    "    print(\"----\"+hood+\"----\")\n",
    "    york_temp = york_grouped[york_grouped['Neighbourhood'] == hood].T.reset_index()\n",
    "    york_temp.columns = ['venue','freq']\n",
    "    york_temp = york_temp.iloc[1:]\n",
    "    york_temp['freq'] = york_temp['freq'].astype(float)\n",
    "    york_temp = york_temp.round({'freq': 2})\n",
    "    print(york_temp.sort_values('freq', ascending=False).reset_index(drop=True).head(num_top_venues))\n",
    "    print('\\n')"
   ]
  },
  {
   "cell_type": "markdown",
   "metadata": {},
   "source": [
    "**Let's put that into a pandas dataframe**"
   ]
  },
  {
   "cell_type": "code",
   "execution_count": 93,
   "metadata": {},
   "outputs": [],
   "source": [
    "def return_most_common_venues(row, num_top_venues):\n",
    "    row_categories = row.iloc[1:]\n",
    "    row_categories_sorted = row_categories.sort_values(ascending=False)\n",
    "    \n",
    "    return row_categories_sorted.index.values[0:num_top_venues]"
   ]
  },
  {
   "cell_type": "code",
   "execution_count": 95,
   "metadata": {},
   "outputs": [
    {
     "data": {
      "text/html": [
       "<div>\n",
       "<style scoped>\n",
       "    .dataframe tbody tr th:only-of-type {\n",
       "        vertical-align: middle;\n",
       "    }\n",
       "\n",
       "    .dataframe tbody tr th {\n",
       "        vertical-align: top;\n",
       "    }\n",
       "\n",
       "    .dataframe thead th {\n",
       "        text-align: right;\n",
       "    }\n",
       "</style>\n",
       "<table border=\"1\" class=\"dataframe\">\n",
       "  <thead>\n",
       "    <tr style=\"text-align: right;\">\n",
       "      <th></th>\n",
       "      <th>Neighbourhood</th>\n",
       "      <th>1st Most Common Venue</th>\n",
       "      <th>2nd Most Common Venue</th>\n",
       "      <th>3rd Most Common Venue</th>\n",
       "      <th>4th Most Common Venue</th>\n",
       "      <th>5th Most Common Venue</th>\n",
       "      <th>6th Most Common Venue</th>\n",
       "      <th>7th Most Common Venue</th>\n",
       "      <th>8th Most Common Venue</th>\n",
       "      <th>9th Most Common Venue</th>\n",
       "      <th>10th Most Common Venue</th>\n",
       "      <th>11th Most Common Venue</th>\n",
       "      <th>12th Most Common Venue</th>\n",
       "    </tr>\n",
       "  </thead>\n",
       "  <tbody>\n",
       "  </tbody>\n",
       "</table>\n",
       "</div>"
      ],
      "text/plain": [
       "Empty DataFrame\n",
       "Columns: [Neighbourhood, 1st Most Common Venue, 2nd Most Common Venue, 3rd Most Common Venue, 4th Most Common Venue, 5th Most Common Venue, 6th Most Common Venue, 7th Most Common Venue, 8th Most Common Venue, 9th Most Common Venue, 10th Most Common Venue, 11th Most Common Venue, 12th Most Common Venue]\n",
       "Index: []"
      ]
     },
     "execution_count": 95,
     "metadata": {},
     "output_type": "execute_result"
    }
   ],
   "source": [
    "num_top_venues = 12\n",
    "\n",
    "indicators = ['st', 'nd', 'rd']\n",
    "\n",
    "# create columns according to number of top venues\n",
    "columns = ['Neighbourhood']\n",
    "for ind in np.arange(num_top_venues):\n",
    "    try:\n",
    "        columns.append('{}{} Most Common Venue'.format(ind+1, indicators[ind]))\n",
    "    except:\n",
    "        columns.append('{}th Most Common Venue'.format(ind+1))\n",
    "\n",
    "# create a new dataframe\n",
    "york_neighbourhoods_venues_sorted = pd.DataFrame(columns=columns)\n",
    "\n",
    "york_neighbourhoods_venues_sorted"
   ]
  },
  {
   "cell_type": "code",
   "execution_count": 96,
   "metadata": {},
   "outputs": [
    {
     "data": {
      "text/html": [
       "<div>\n",
       "<style scoped>\n",
       "    .dataframe tbody tr th:only-of-type {\n",
       "        vertical-align: middle;\n",
       "    }\n",
       "\n",
       "    .dataframe tbody tr th {\n",
       "        vertical-align: top;\n",
       "    }\n",
       "\n",
       "    .dataframe thead th {\n",
       "        text-align: right;\n",
       "    }\n",
       "</style>\n",
       "<table border=\"1\" class=\"dataframe\">\n",
       "  <thead>\n",
       "    <tr style=\"text-align: right;\">\n",
       "      <th></th>\n",
       "      <th>Neighbourhood</th>\n",
       "      <th>1st Most Common Venue</th>\n",
       "      <th>2nd Most Common Venue</th>\n",
       "      <th>3rd Most Common Venue</th>\n",
       "      <th>4th Most Common Venue</th>\n",
       "      <th>5th Most Common Venue</th>\n",
       "      <th>6th Most Common Venue</th>\n",
       "      <th>7th Most Common Venue</th>\n",
       "      <th>8th Most Common Venue</th>\n",
       "      <th>9th Most Common Venue</th>\n",
       "      <th>10th Most Common Venue</th>\n",
       "      <th>11th Most Common Venue</th>\n",
       "      <th>12th Most Common Venue</th>\n",
       "    </tr>\n",
       "  </thead>\n",
       "  <tbody>\n",
       "    <tr>\n",
       "      <th>0</th>\n",
       "      <td>Caledonia-Fairbanks</td>\n",
       "      <td>NaN</td>\n",
       "      <td>NaN</td>\n",
       "      <td>NaN</td>\n",
       "      <td>NaN</td>\n",
       "      <td>NaN</td>\n",
       "      <td>NaN</td>\n",
       "      <td>NaN</td>\n",
       "      <td>NaN</td>\n",
       "      <td>NaN</td>\n",
       "      <td>NaN</td>\n",
       "      <td>NaN</td>\n",
       "      <td>NaN</td>\n",
       "    </tr>\n",
       "    <tr>\n",
       "      <th>1</th>\n",
       "      <td>Del Ray, Mount Dennis, Keelsdale and Silverthorn</td>\n",
       "      <td>NaN</td>\n",
       "      <td>NaN</td>\n",
       "      <td>NaN</td>\n",
       "      <td>NaN</td>\n",
       "      <td>NaN</td>\n",
       "      <td>NaN</td>\n",
       "      <td>NaN</td>\n",
       "      <td>NaN</td>\n",
       "      <td>NaN</td>\n",
       "      <td>NaN</td>\n",
       "      <td>NaN</td>\n",
       "      <td>NaN</td>\n",
       "    </tr>\n",
       "  </tbody>\n",
       "</table>\n",
       "</div>"
      ],
      "text/plain": [
       "                                      Neighbourhood 1st Most Common Venue  \\\n",
       "0                               Caledonia-Fairbanks                   NaN   \n",
       "1  Del Ray, Mount Dennis, Keelsdale and Silverthorn                   NaN   \n",
       "\n",
       "  2nd Most Common Venue 3rd Most Common Venue 4th Most Common Venue  \\\n",
       "0                   NaN                   NaN                   NaN   \n",
       "1                   NaN                   NaN                   NaN   \n",
       "\n",
       "  5th Most Common Venue 6th Most Common Venue 7th Most Common Venue  \\\n",
       "0                   NaN                   NaN                   NaN   \n",
       "1                   NaN                   NaN                   NaN   \n",
       "\n",
       "  8th Most Common Venue 9th Most Common Venue 10th Most Common Venue  \\\n",
       "0                   NaN                   NaN                    NaN   \n",
       "1                   NaN                   NaN                    NaN   \n",
       "\n",
       "  11th Most Common Venue 12th Most Common Venue  \n",
       "0                    NaN                    NaN  \n",
       "1                    NaN                    NaN  "
      ]
     },
     "execution_count": 96,
     "metadata": {},
     "output_type": "execute_result"
    }
   ],
   "source": [
    "york_neighbourhoods_venues_sorted['Neighbourhood'] = york_grouped['Neighbourhood']\n",
    "\n",
    "york_neighbourhoods_venues_sorted.head(2)"
   ]
  },
  {
   "cell_type": "code",
   "execution_count": 97,
   "metadata": {},
   "outputs": [
    {
     "data": {
      "text/html": [
       "<div>\n",
       "<style scoped>\n",
       "    .dataframe tbody tr th:only-of-type {\n",
       "        vertical-align: middle;\n",
       "    }\n",
       "\n",
       "    .dataframe tbody tr th {\n",
       "        vertical-align: top;\n",
       "    }\n",
       "\n",
       "    .dataframe thead th {\n",
       "        text-align: right;\n",
       "    }\n",
       "</style>\n",
       "<table border=\"1\" class=\"dataframe\">\n",
       "  <thead>\n",
       "    <tr style=\"text-align: right;\">\n",
       "      <th></th>\n",
       "      <th>Neighbourhood</th>\n",
       "      <th>1st Most Common Venue</th>\n",
       "      <th>2nd Most Common Venue</th>\n",
       "      <th>3rd Most Common Venue</th>\n",
       "      <th>4th Most Common Venue</th>\n",
       "      <th>5th Most Common Venue</th>\n",
       "      <th>6th Most Common Venue</th>\n",
       "      <th>7th Most Common Venue</th>\n",
       "      <th>8th Most Common Venue</th>\n",
       "      <th>9th Most Common Venue</th>\n",
       "      <th>10th Most Common Venue</th>\n",
       "      <th>11th Most Common Venue</th>\n",
       "      <th>12th Most Common Venue</th>\n",
       "    </tr>\n",
       "  </thead>\n",
       "  <tbody>\n",
       "    <tr>\n",
       "      <th>0</th>\n",
       "      <td>Caledonia-Fairbanks</td>\n",
       "      <td>Park</td>\n",
       "      <td>Women's Store</td>\n",
       "      <td>Bar</td>\n",
       "      <td>Trail</td>\n",
       "      <td>Sandwich Place</td>\n",
       "      <td>Pizza Place</td>\n",
       "      <td>Hockey Arena</td>\n",
       "      <td>Field</td>\n",
       "      <td>Discount Store</td>\n",
       "      <td>Convenience Store</td>\n",
       "      <td>Coffee Shop</td>\n",
       "      <td>Bus Line</td>\n",
       "    </tr>\n",
       "    <tr>\n",
       "      <th>1</th>\n",
       "      <td>Del Ray, Mount Dennis, Keelsdale and Silverthorn</td>\n",
       "      <td>Sandwich Place</td>\n",
       "      <td>Discount Store</td>\n",
       "      <td>Convenience Store</td>\n",
       "      <td>Coffee Shop</td>\n",
       "      <td>Women's Store</td>\n",
       "      <td>Trail</td>\n",
       "      <td>Pizza Place</td>\n",
       "      <td>Park</td>\n",
       "      <td>Hockey Arena</td>\n",
       "      <td>Field</td>\n",
       "      <td>Bus Line</td>\n",
       "      <td>Bar</td>\n",
       "    </tr>\n",
       "  </tbody>\n",
       "</table>\n",
       "</div>"
      ],
      "text/plain": [
       "                                      Neighbourhood 1st Most Common Venue  \\\n",
       "0                               Caledonia-Fairbanks                  Park   \n",
       "1  Del Ray, Mount Dennis, Keelsdale and Silverthorn        Sandwich Place   \n",
       "\n",
       "  2nd Most Common Venue 3rd Most Common Venue 4th Most Common Venue  \\\n",
       "0         Women's Store                   Bar                 Trail   \n",
       "1        Discount Store     Convenience Store           Coffee Shop   \n",
       "\n",
       "  5th Most Common Venue 6th Most Common Venue 7th Most Common Venue  \\\n",
       "0        Sandwich Place           Pizza Place          Hockey Arena   \n",
       "1         Women's Store                 Trail           Pizza Place   \n",
       "\n",
       "  8th Most Common Venue 9th Most Common Venue 10th Most Common Venue  \\\n",
       "0                 Field        Discount Store      Convenience Store   \n",
       "1                  Park          Hockey Arena                  Field   \n",
       "\n",
       "  11th Most Common Venue 12th Most Common Venue  \n",
       "0            Coffee Shop               Bus Line  \n",
       "1               Bus Line                    Bar  "
      ]
     },
     "execution_count": 97,
     "metadata": {},
     "output_type": "execute_result"
    }
   ],
   "source": [
    "for ind in np.arange(york_grouped.shape[0]):\n",
    "    york_neighbourhoods_venues_sorted.iloc[ind, 1:] = return_most_common_venues(york_grouped.iloc[ind, :], num_top_venues)\n",
    "\n",
    "york_neighbourhoods_venues_sorted.head(2)"
   ]
  },
  {
   "cell_type": "markdown",
   "metadata": {},
   "source": [
    "# Used the Folium library to generated maps to visualize neighborhoods on and how they cluster together"
   ]
  },
  {
   "cell_type": "markdown",
   "metadata": {},
   "source": [
    "**Run k-means to cluster the neighborhood into 2 clusters.**"
   ]
  },
  {
   "cell_type": "code",
   "execution_count": 98,
   "metadata": {},
   "outputs": [
    {
     "data": {
      "text/plain": [
       "array([0, 1, 0, 1, 0])"
      ]
     },
     "execution_count": 98,
     "metadata": {},
     "output_type": "execute_result"
    }
   ],
   "source": [
    "# set number of clusters\n",
    "kclusters = 2\n",
    "\n",
    "york_grouped_clustering = york_grouped.drop('Neighbourhood', 1)\n",
    "\n",
    "# run k-means clustering\n",
    "york_kmeans = KMeans(n_clusters=kclusters, random_state=0).fit(york_grouped_clustering)\n",
    "\n",
    "# check cluster labels generated for each row in the dataframe\n",
    "york_kmeans.labels_[0:5] "
   ]
  },
  {
   "cell_type": "code",
   "execution_count": 99,
   "metadata": {},
   "outputs": [
    {
     "data": {
      "text/html": [
       "<div>\n",
       "<style scoped>\n",
       "    .dataframe tbody tr th:only-of-type {\n",
       "        vertical-align: middle;\n",
       "    }\n",
       "\n",
       "    .dataframe tbody tr th {\n",
       "        vertical-align: top;\n",
       "    }\n",
       "\n",
       "    .dataframe thead th {\n",
       "        text-align: right;\n",
       "    }\n",
       "</style>\n",
       "<table border=\"1\" class=\"dataframe\">\n",
       "  <thead>\n",
       "    <tr style=\"text-align: right;\">\n",
       "      <th></th>\n",
       "      <th>PostalCode</th>\n",
       "      <th>Borough</th>\n",
       "      <th>Neighbourhood</th>\n",
       "      <th>Latitude</th>\n",
       "      <th>Longitude</th>\n",
       "      <th>Cluster Labels</th>\n",
       "      <th>1st Most Common Venue</th>\n",
       "      <th>2nd Most Common Venue</th>\n",
       "      <th>3rd Most Common Venue</th>\n",
       "      <th>4th Most Common Venue</th>\n",
       "      <th>5th Most Common Venue</th>\n",
       "      <th>6th Most Common Venue</th>\n",
       "      <th>7th Most Common Venue</th>\n",
       "      <th>8th Most Common Venue</th>\n",
       "      <th>9th Most Common Venue</th>\n",
       "      <th>10th Most Common Venue</th>\n",
       "      <th>11th Most Common Venue</th>\n",
       "      <th>12th Most Common Venue</th>\n",
       "    </tr>\n",
       "  </thead>\n",
       "  <tbody>\n",
       "    <tr>\n",
       "      <th>0</th>\n",
       "      <td>M6C</td>\n",
       "      <td>York</td>\n",
       "      <td>Humewood-Cedarvale</td>\n",
       "      <td>43.693781</td>\n",
       "      <td>-79.428191</td>\n",
       "      <td>0</td>\n",
       "      <td>Trail</td>\n",
       "      <td>Park</td>\n",
       "      <td>Hockey Arena</td>\n",
       "      <td>Field</td>\n",
       "      <td>Women's Store</td>\n",
       "      <td>Sandwich Place</td>\n",
       "      <td>Pizza Place</td>\n",
       "      <td>Discount Store</td>\n",
       "      <td>Convenience Store</td>\n",
       "      <td>Coffee Shop</td>\n",
       "      <td>Bus Line</td>\n",
       "      <td>Bar</td>\n",
       "    </tr>\n",
       "    <tr>\n",
       "      <th>1</th>\n",
       "      <td>M6E</td>\n",
       "      <td>York</td>\n",
       "      <td>Caledonia-Fairbanks</td>\n",
       "      <td>43.689026</td>\n",
       "      <td>-79.453512</td>\n",
       "      <td>0</td>\n",
       "      <td>Park</td>\n",
       "      <td>Women's Store</td>\n",
       "      <td>Bar</td>\n",
       "      <td>Trail</td>\n",
       "      <td>Sandwich Place</td>\n",
       "      <td>Pizza Place</td>\n",
       "      <td>Hockey Arena</td>\n",
       "      <td>Field</td>\n",
       "      <td>Discount Store</td>\n",
       "      <td>Convenience Store</td>\n",
       "      <td>Coffee Shop</td>\n",
       "      <td>Bus Line</td>\n",
       "    </tr>\n",
       "    <tr>\n",
       "      <th>2</th>\n",
       "      <td>M6M</td>\n",
       "      <td>York</td>\n",
       "      <td>Del Ray, Mount Dennis, Keelsdale and Silverthorn</td>\n",
       "      <td>43.691116</td>\n",
       "      <td>-79.476013</td>\n",
       "      <td>1</td>\n",
       "      <td>Sandwich Place</td>\n",
       "      <td>Discount Store</td>\n",
       "      <td>Convenience Store</td>\n",
       "      <td>Coffee Shop</td>\n",
       "      <td>Women's Store</td>\n",
       "      <td>Trail</td>\n",
       "      <td>Pizza Place</td>\n",
       "      <td>Park</td>\n",
       "      <td>Hockey Arena</td>\n",
       "      <td>Field</td>\n",
       "      <td>Bus Line</td>\n",
       "      <td>Bar</td>\n",
       "    </tr>\n",
       "    <tr>\n",
       "      <th>3</th>\n",
       "      <td>M6N</td>\n",
       "      <td>York</td>\n",
       "      <td>Runnymede, The Junction North</td>\n",
       "      <td>43.673185</td>\n",
       "      <td>-79.487262</td>\n",
       "      <td>1</td>\n",
       "      <td>Pizza Place</td>\n",
       "      <td>Convenience Store</td>\n",
       "      <td>Bus Line</td>\n",
       "      <td>Women's Store</td>\n",
       "      <td>Trail</td>\n",
       "      <td>Sandwich Place</td>\n",
       "      <td>Park</td>\n",
       "      <td>Hockey Arena</td>\n",
       "      <td>Field</td>\n",
       "      <td>Discount Store</td>\n",
       "      <td>Coffee Shop</td>\n",
       "      <td>Bar</td>\n",
       "    </tr>\n",
       "    <tr>\n",
       "      <th>4</th>\n",
       "      <td>M9N</td>\n",
       "      <td>York</td>\n",
       "      <td>Weston</td>\n",
       "      <td>43.706876</td>\n",
       "      <td>-79.518188</td>\n",
       "      <td>0</td>\n",
       "      <td>Park</td>\n",
       "      <td>Convenience Store</td>\n",
       "      <td>Women's Store</td>\n",
       "      <td>Trail</td>\n",
       "      <td>Sandwich Place</td>\n",
       "      <td>Pizza Place</td>\n",
       "      <td>Hockey Arena</td>\n",
       "      <td>Field</td>\n",
       "      <td>Discount Store</td>\n",
       "      <td>Coffee Shop</td>\n",
       "      <td>Bus Line</td>\n",
       "      <td>Bar</td>\n",
       "    </tr>\n",
       "  </tbody>\n",
       "</table>\n",
       "</div>"
      ],
      "text/plain": [
       "  PostalCode Borough                                     Neighbourhood  \\\n",
       "0        M6C    York                                Humewood-Cedarvale   \n",
       "1        M6E    York                               Caledonia-Fairbanks   \n",
       "2        M6M    York  Del Ray, Mount Dennis, Keelsdale and Silverthorn   \n",
       "3        M6N    York                     Runnymede, The Junction North   \n",
       "4        M9N    York                                            Weston   \n",
       "\n",
       "    Latitude  Longitude  Cluster Labels 1st Most Common Venue  \\\n",
       "0  43.693781 -79.428191               0                 Trail   \n",
       "1  43.689026 -79.453512               0                  Park   \n",
       "2  43.691116 -79.476013               1        Sandwich Place   \n",
       "3  43.673185 -79.487262               1           Pizza Place   \n",
       "4  43.706876 -79.518188               0                  Park   \n",
       "\n",
       "  2nd Most Common Venue 3rd Most Common Venue 4th Most Common Venue  \\\n",
       "0                  Park          Hockey Arena                 Field   \n",
       "1         Women's Store                   Bar                 Trail   \n",
       "2        Discount Store     Convenience Store           Coffee Shop   \n",
       "3     Convenience Store              Bus Line         Women's Store   \n",
       "4     Convenience Store         Women's Store                 Trail   \n",
       "\n",
       "  5th Most Common Venue 6th Most Common Venue 7th Most Common Venue  \\\n",
       "0         Women's Store        Sandwich Place           Pizza Place   \n",
       "1        Sandwich Place           Pizza Place          Hockey Arena   \n",
       "2         Women's Store                 Trail           Pizza Place   \n",
       "3                 Trail        Sandwich Place                  Park   \n",
       "4        Sandwich Place           Pizza Place          Hockey Arena   \n",
       "\n",
       "  8th Most Common Venue 9th Most Common Venue 10th Most Common Venue  \\\n",
       "0        Discount Store     Convenience Store            Coffee Shop   \n",
       "1                 Field        Discount Store      Convenience Store   \n",
       "2                  Park          Hockey Arena                  Field   \n",
       "3          Hockey Arena                 Field         Discount Store   \n",
       "4                 Field        Discount Store            Coffee Shop   \n",
       "\n",
       "  11th Most Common Venue 12th Most Common Venue  \n",
       "0               Bus Line                    Bar  \n",
       "1            Coffee Shop               Bus Line  \n",
       "2               Bus Line                    Bar  \n",
       "3            Coffee Shop                    Bar  \n",
       "4               Bus Line                    Bar  "
      ]
     },
     "execution_count": 99,
     "metadata": {},
     "output_type": "execute_result"
    }
   ],
   "source": [
    "# add clustering labels\n",
    "york_neighbourhoods_venues_sorted.insert(0, 'Cluster Labels', york_kmeans.labels_)\n",
    "\n",
    "york_merged = york_data\n",
    "\n",
    "# merge toronto_grouped with toronto_data to add latitude/longitude for each neighborhood\n",
    "york_merged = york_merged.join(york_neighbourhoods_venues_sorted.set_index('Neighbourhood'), on='Neighbourhood')\n",
    "\n",
    "york_merged"
   ]
  },
  {
   "cell_type": "markdown",
   "metadata": {},
   "source": [
    "# Generate maps to visualize your neighborhoods and how they cluster together"
   ]
  },
  {
   "cell_type": "code",
   "execution_count": 100,
   "metadata": {},
   "outputs": [],
   "source": [
    "york_map_clusters = folium.Map(location=[latitude, longitude], zoom_start=11)\n",
    "\n",
    "# set color scheme for the clusters\n",
    "x = np.arange(kclusters)\n",
    "ys = [i + x + (i*x)**2 for i in range(kclusters)]\n",
    "colors_array = cm.rainbow(np.linspace(0, 1, len(ys)))\n",
    "rainbow = [colors.rgb2hex(i) for i in colors_array]\n",
    "\n",
    "# add markers to the map\n",
    "markers_colors = []\n",
    "for lat, lon, poi, cluster in zip(york_merged['Latitude'], york_merged['Longitude'], york_merged['Neighbourhood'], york_merged['Cluster Labels']):\n",
    "    label = folium.Popup(str(poi) + ' Cluster ' + str(cluster), parse_html=True)\n",
    "    folium.CircleMarker(\n",
    "        [lat, lon],\n",
    "        radius=5,\n",
    "        popup=label,\n",
    "        color=rainbow[cluster-1],\n",
    "        fill=True,\n",
    "        fill_color=rainbow[cluster-1],\n",
    "        fill_opacity=0.7).add_to(york_map_clusters)\n",
    "       \n",
    "york_map_clusters\n",
    "\n",
    "york_map_clusters.save(\"york_map_clusters.html\")\n",
    "\n"
   ]
  },
  {
   "cell_type": "code",
   "execution_count": 101,
   "metadata": {},
   "outputs": [
    {
     "data": {
      "text/html": [
       "<div style=\"width:100%;\"><div style=\"position:relative;width:100%;height:0;padding-bottom:60%;\"><span style=\"color:#565656\">Make this Notebook Trusted to load map: File -> Trust Notebook</span><iframe src=\"about:blank\" style=\"position:absolute;width:100%;height:100%;left:0;top:0;border:none !important;\" data-html=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 onload=\"this.contentDocument.open();this.contentDocument.write(atob(this.getAttribute('data-html')));this.contentDocument.close();\" allowfullscreen webkitallowfullscreen mozallowfullscreen></iframe></div></div>"
      ],
      "text/plain": [
       "<folium.folium.Map at 0x4ac32a7a90>"
      ]
     },
     "execution_count": 101,
     "metadata": {},
     "output_type": "execute_result"
    }
   ],
   "source": [
    "york_map_clusters"
   ]
  },
  {
   "cell_type": "markdown",
   "metadata": {},
   "source": [
    "**Red Cluster:**"
   ]
  },
  {
   "cell_type": "code",
   "execution_count": 102,
   "metadata": {},
   "outputs": [
    {
     "data": {
      "text/html": [
       "<div>\n",
       "<style scoped>\n",
       "    .dataframe tbody tr th:only-of-type {\n",
       "        vertical-align: middle;\n",
       "    }\n",
       "\n",
       "    .dataframe tbody tr th {\n",
       "        vertical-align: top;\n",
       "    }\n",
       "\n",
       "    .dataframe thead th {\n",
       "        text-align: right;\n",
       "    }\n",
       "</style>\n",
       "<table border=\"1\" class=\"dataframe\">\n",
       "  <thead>\n",
       "    <tr style=\"text-align: right;\">\n",
       "      <th></th>\n",
       "      <th>Borough</th>\n",
       "      <th>Cluster Labels</th>\n",
       "      <th>1st Most Common Venue</th>\n",
       "      <th>2nd Most Common Venue</th>\n",
       "      <th>3rd Most Common Venue</th>\n",
       "      <th>4th Most Common Venue</th>\n",
       "      <th>5th Most Common Venue</th>\n",
       "      <th>6th Most Common Venue</th>\n",
       "      <th>7th Most Common Venue</th>\n",
       "      <th>8th Most Common Venue</th>\n",
       "      <th>9th Most Common Venue</th>\n",
       "      <th>10th Most Common Venue</th>\n",
       "      <th>11th Most Common Venue</th>\n",
       "      <th>12th Most Common Venue</th>\n",
       "    </tr>\n",
       "  </thead>\n",
       "  <tbody>\n",
       "    <tr>\n",
       "      <th>0</th>\n",
       "      <td>York</td>\n",
       "      <td>0</td>\n",
       "      <td>Trail</td>\n",
       "      <td>Park</td>\n",
       "      <td>Hockey Arena</td>\n",
       "      <td>Field</td>\n",
       "      <td>Women's Store</td>\n",
       "      <td>Sandwich Place</td>\n",
       "      <td>Pizza Place</td>\n",
       "      <td>Discount Store</td>\n",
       "      <td>Convenience Store</td>\n",
       "      <td>Coffee Shop</td>\n",
       "      <td>Bus Line</td>\n",
       "      <td>Bar</td>\n",
       "    </tr>\n",
       "    <tr>\n",
       "      <th>1</th>\n",
       "      <td>York</td>\n",
       "      <td>0</td>\n",
       "      <td>Park</td>\n",
       "      <td>Women's Store</td>\n",
       "      <td>Bar</td>\n",
       "      <td>Trail</td>\n",
       "      <td>Sandwich Place</td>\n",
       "      <td>Pizza Place</td>\n",
       "      <td>Hockey Arena</td>\n",
       "      <td>Field</td>\n",
       "      <td>Discount Store</td>\n",
       "      <td>Convenience Store</td>\n",
       "      <td>Coffee Shop</td>\n",
       "      <td>Bus Line</td>\n",
       "    </tr>\n",
       "    <tr>\n",
       "      <th>4</th>\n",
       "      <td>York</td>\n",
       "      <td>0</td>\n",
       "      <td>Park</td>\n",
       "      <td>Convenience Store</td>\n",
       "      <td>Women's Store</td>\n",
       "      <td>Trail</td>\n",
       "      <td>Sandwich Place</td>\n",
       "      <td>Pizza Place</td>\n",
       "      <td>Hockey Arena</td>\n",
       "      <td>Field</td>\n",
       "      <td>Discount Store</td>\n",
       "      <td>Coffee Shop</td>\n",
       "      <td>Bus Line</td>\n",
       "      <td>Bar</td>\n",
       "    </tr>\n",
       "  </tbody>\n",
       "</table>\n",
       "</div>"
      ],
      "text/plain": [
       "  Borough  Cluster Labels 1st Most Common Venue 2nd Most Common Venue  \\\n",
       "0    York               0                 Trail                  Park   \n",
       "1    York               0                  Park         Women's Store   \n",
       "4    York               0                  Park     Convenience Store   \n",
       "\n",
       "  3rd Most Common Venue 4th Most Common Venue 5th Most Common Venue  \\\n",
       "0          Hockey Arena                 Field         Women's Store   \n",
       "1                   Bar                 Trail        Sandwich Place   \n",
       "4         Women's Store                 Trail        Sandwich Place   \n",
       "\n",
       "  6th Most Common Venue 7th Most Common Venue 8th Most Common Venue  \\\n",
       "0        Sandwich Place           Pizza Place        Discount Store   \n",
       "1           Pizza Place          Hockey Arena                 Field   \n",
       "4           Pizza Place          Hockey Arena                 Field   \n",
       "\n",
       "  9th Most Common Venue 10th Most Common Venue 11th Most Common Venue  \\\n",
       "0     Convenience Store            Coffee Shop               Bus Line   \n",
       "1        Discount Store      Convenience Store            Coffee Shop   \n",
       "4        Discount Store            Coffee Shop               Bus Line   \n",
       "\n",
       "  12th Most Common Venue  \n",
       "0                    Bar  \n",
       "1               Bus Line  \n",
       "4                    Bar  "
      ]
     },
     "execution_count": 102,
     "metadata": {},
     "output_type": "execute_result"
    }
   ],
   "source": [
    "york_merged.loc[york_merged['Cluster Labels'] == 0, york_merged.columns[[1] + list(range(5, york_merged.shape[1]))]]"
   ]
  },
  {
   "cell_type": "markdown",
   "metadata": {},
   "source": [
    "**Blue Cluster**"
   ]
  },
  {
   "cell_type": "code",
   "execution_count": 103,
   "metadata": {},
   "outputs": [
    {
     "data": {
      "text/html": [
       "<div>\n",
       "<style scoped>\n",
       "    .dataframe tbody tr th:only-of-type {\n",
       "        vertical-align: middle;\n",
       "    }\n",
       "\n",
       "    .dataframe tbody tr th {\n",
       "        vertical-align: top;\n",
       "    }\n",
       "\n",
       "    .dataframe thead th {\n",
       "        text-align: right;\n",
       "    }\n",
       "</style>\n",
       "<table border=\"1\" class=\"dataframe\">\n",
       "  <thead>\n",
       "    <tr style=\"text-align: right;\">\n",
       "      <th></th>\n",
       "      <th>Borough</th>\n",
       "      <th>Cluster Labels</th>\n",
       "      <th>1st Most Common Venue</th>\n",
       "      <th>2nd Most Common Venue</th>\n",
       "      <th>3rd Most Common Venue</th>\n",
       "      <th>4th Most Common Venue</th>\n",
       "      <th>5th Most Common Venue</th>\n",
       "      <th>6th Most Common Venue</th>\n",
       "      <th>7th Most Common Venue</th>\n",
       "      <th>8th Most Common Venue</th>\n",
       "      <th>9th Most Common Venue</th>\n",
       "      <th>10th Most Common Venue</th>\n",
       "      <th>11th Most Common Venue</th>\n",
       "      <th>12th Most Common Venue</th>\n",
       "    </tr>\n",
       "  </thead>\n",
       "  <tbody>\n",
       "    <tr>\n",
       "      <th>2</th>\n",
       "      <td>York</td>\n",
       "      <td>1</td>\n",
       "      <td>Sandwich Place</td>\n",
       "      <td>Discount Store</td>\n",
       "      <td>Convenience Store</td>\n",
       "      <td>Coffee Shop</td>\n",
       "      <td>Women's Store</td>\n",
       "      <td>Trail</td>\n",
       "      <td>Pizza Place</td>\n",
       "      <td>Park</td>\n",
       "      <td>Hockey Arena</td>\n",
       "      <td>Field</td>\n",
       "      <td>Bus Line</td>\n",
       "      <td>Bar</td>\n",
       "    </tr>\n",
       "    <tr>\n",
       "      <th>3</th>\n",
       "      <td>York</td>\n",
       "      <td>1</td>\n",
       "      <td>Pizza Place</td>\n",
       "      <td>Convenience Store</td>\n",
       "      <td>Bus Line</td>\n",
       "      <td>Women's Store</td>\n",
       "      <td>Trail</td>\n",
       "      <td>Sandwich Place</td>\n",
       "      <td>Park</td>\n",
       "      <td>Hockey Arena</td>\n",
       "      <td>Field</td>\n",
       "      <td>Discount Store</td>\n",
       "      <td>Coffee Shop</td>\n",
       "      <td>Bar</td>\n",
       "    </tr>\n",
       "  </tbody>\n",
       "</table>\n",
       "</div>"
      ],
      "text/plain": [
       "  Borough  Cluster Labels 1st Most Common Venue 2nd Most Common Venue  \\\n",
       "2    York               1        Sandwich Place        Discount Store   \n",
       "3    York               1           Pizza Place     Convenience Store   \n",
       "\n",
       "  3rd Most Common Venue 4th Most Common Venue 5th Most Common Venue  \\\n",
       "2     Convenience Store           Coffee Shop         Women's Store   \n",
       "3              Bus Line         Women's Store                 Trail   \n",
       "\n",
       "  6th Most Common Venue 7th Most Common Venue 8th Most Common Venue  \\\n",
       "2                 Trail           Pizza Place                  Park   \n",
       "3        Sandwich Place                  Park          Hockey Arena   \n",
       "\n",
       "  9th Most Common Venue 10th Most Common Venue 11th Most Common Venue  \\\n",
       "2          Hockey Arena                  Field               Bus Line   \n",
       "3                 Field         Discount Store            Coffee Shop   \n",
       "\n",
       "  12th Most Common Venue  \n",
       "2                    Bar  \n",
       "3                    Bar  "
      ]
     },
     "execution_count": 103,
     "metadata": {},
     "output_type": "execute_result"
    }
   ],
   "source": [
    "york_merged.loc[york_merged['Cluster Labels'] == 1, york_merged.columns[[1] + list(range(5, york_merged.shape[1]))]]"
   ]
  },
  {
   "cell_type": "code",
   "execution_count": null,
   "metadata": {},
   "outputs": [],
   "source": []
  }
 ],
 "metadata": {
  "kernelspec": {
   "display_name": "Python 3",
   "language": "python",
   "name": "python3"
  },
  "language_info": {
   "codemirror_mode": {
    "name": "ipython",
    "version": 3
   },
   "file_extension": ".py",
   "mimetype": "text/x-python",
   "name": "python",
   "nbconvert_exporter": "python",
   "pygments_lexer": "ipython3",
   "version": "3.7.1"
  }
 },
 "nbformat": 4,
 "nbformat_minor": 2
}
